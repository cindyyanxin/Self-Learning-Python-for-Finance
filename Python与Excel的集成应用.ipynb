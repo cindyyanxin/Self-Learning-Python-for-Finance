{
 "cells": [
  {
   "attachments": {},
   "cell_type": "markdown",
   "metadata": {},
   "source": [
    "Excel是金融行业最常使用的工具和应用，Excel的应用有以下几个特征和优点：\n",
    "1. 组织结构：电子表格应用的工作簿文件将单独的工作表管理起来，而工作表是管理单元格的工具\n",
    "2. 数据：数据通常使用表格的形式存储，而单元格中包含的是具体的数据点（例如浮点数或字符串），可以为了显示的目的加入格式化信息（例如字体，颜色等），也可以加入某些计算机代码（例如，格点中的数据来自于数值计算的结果）\n",
    "3. 功能：给定单元格中存放的数据，你可以进行计算以及对数据进行操作，例如加和乘某个整数\n",
    "4. 可视化：数据可以方便的进行可视化\n",
    "5. 可编程：现代的电子表格应用允许较为灵活的编程，例如，通过Excel中内嵌的VBA\n",
    "6. 可引用：完成功能或写入的主要工具是单元格引用，每个单元格有坐标（工作簿，工作表名称，列和行）来识别单元格\n",
    "7. Excel中有一些接口可以用来从主要的数据服务提供商那里获取数据，例如Bloomberg以及Thomson Reuters，这些数据可以导入到Excel中"
   ]
  },
  {
   "attachments": {},
   "cell_type": "markdown",
   "metadata": {},
   "source": [
    "Excel也有一些缺点：\n",
    "1. 不适用于存放大量的数据或者有复杂关系的数据\n",
    "2. 仅仅是作为通用图形用户界面（GUI）来使用，主要用来显示和可视化数据以及综合信息，并完成一些初步的分析"
   ]
  },
  {
   "attachments": {},
   "cell_type": "markdown",
   "metadata": {},
   "source": [
    "Python与Excel的集成可以克服Excel的一些缺陷，Python可以发挥如下作用：\n",
    "1. 处理工具：使用Python，你可以与Excel进行交互并操作Excel表格\n",
    "2. 数据处理：Python可以向Excel中提供数据以及从电子表格中读入数据\n",
    "3. 分析引擎：Python可以将它全部的分析功能提供给电子表格，称为一种VBA编程的完全替代"
   ]
  },
  {
   "cell_type": "code",
   "execution_count": 1,
   "metadata": {
    "collapsed": true
   },
   "outputs": [],
   "source": [
    "import numpy as np\n",
    "import pandas as pd\n",
    "import xlrd,xlwt#处理Excel电子表格文件的基础Python库是xlrd和xlwt，但是xlwt的一个主要的缺陷是其只能写入扩展名为.xls的文件\n",
    "import xlsxwriter#我们还可以使用xlsxwriter和OpenPyxl，可以生成xlsx为扩展名的文件\n",
    "path='data/'"
   ]
  },
  {
   "cell_type": "code",
   "execution_count": 54,
   "metadata": {},
   "outputs": [
    {
     "data": {
      "text/plain": [
       "<xlwt.Workbook.Workbook at 0x21cc00cc860>"
      ]
     },
     "execution_count": 54,
     "metadata": {},
     "output_type": "execute_result"
    }
   ],
   "source": [
    "wb=xlwt.Workbook()#建立Workbook对象wb。注意这仅仅是工作簿的一种内存内的形式。在路径中看不到。\n",
    "wb"
   ]
  },
  {
   "cell_type": "code",
   "execution_count": 55,
   "metadata": {},
   "outputs": [
    {
     "data": {
      "text/plain": [
       "<xlwt.Worksheet.Worksheet at 0x21cc00cc7f0>"
      ]
     },
     "execution_count": 55,
     "metadata": {},
     "output_type": "execute_result"
    }
   ],
   "source": [
    "wb.add_sheet('first_sheet',cell_overwrite_ok=True)#创建一个或多个数据表到Workbook对象。这样我们就拥有了一个Worksheet对象，其下标为0。"
   ]
  },
  {
   "cell_type": "code",
   "execution_count": 56,
   "metadata": {},
   "outputs": [
    {
     "data": {
      "text/plain": [
       "0"
      ]
     },
     "execution_count": 56,
     "metadata": {},
     "output_type": "execute_result"
    }
   ],
   "source": [
    "wb.get_active_sheet()#返回active sheet下标"
   ]
  },
  {
   "cell_type": "code",
   "execution_count": 57,
   "metadata": {},
   "outputs": [
    {
     "data": {
      "text/plain": [
       "<xlwt.Worksheet.Worksheet at 0x21cc00cc7f0>"
      ]
     },
     "execution_count": 57,
     "metadata": {},
     "output_type": "execute_result"
    }
   ],
   "source": [
    "ws_1=wb.get_sheet(0)\n",
    "ws_1"
   ]
  },
  {
   "cell_type": "code",
   "execution_count": 58,
   "metadata": {},
   "outputs": [
    {
     "data": {
      "text/plain": [
       "<xlwt.Worksheet.Worksheet at 0x21cc00ccba8>"
      ]
     },
     "execution_count": 58,
     "metadata": {},
     "output_type": "execute_result"
    }
   ],
   "source": [
    "ws_2=wb.add_sheet('second_sheet')\n",
    "ws_2"
   ]
  },
  {
   "cell_type": "code",
   "execution_count": 59,
   "metadata": {},
   "outputs": [
    {
     "data": {
      "text/plain": [
       "array([[ 1,  2,  3,  4,  5,  6,  7,  8],\n",
       "       [ 9, 10, 11, 12, 13, 14, 15, 16],\n",
       "       [17, 18, 19, 20, 21, 22, 23, 24],\n",
       "       [25, 26, 27, 28, 29, 30, 31, 32],\n",
       "       [33, 34, 35, 36, 37, 38, 39, 40],\n",
       "       [41, 42, 43, 44, 45, 46, 47, 48],\n",
       "       [49, 50, 51, 52, 53, 54, 55, 56],\n",
       "       [57, 58, 59, 60, 61, 62, 63, 64]])"
      ]
     },
     "execution_count": 59,
     "metadata": {},
     "output_type": "execute_result"
    }
   ],
   "source": [
    "data=np.arange(1,65).reshape((8,8))\n",
    "data"
   ]
  },
  {
   "cell_type": "code",
   "execution_count": 60,
   "metadata": {
    "collapsed": true
   },
   "outputs": [],
   "source": [
    "ws_1.write(0,0,100)#提供行和列信息（以0为起始点的下标），在0行0列写入100"
   ]
  },
  {
   "cell_type": "code",
   "execution_count": 61,
   "metadata": {},
   "outputs": [],
   "source": [
    "for c in range(data.shape[0]):#纵向多少列\n",
    "    for r in range(data.shape[1]):#横向多少行\n",
    "        ws_1.write(r,c,int(data[c,r]))\n",
    "        ws_2.write(r,c,int(data[r,c]))\n",
    "#这里面，data[c,r]是不能直接用的，因为它的类型是numpy.int32\n",
    "#但是write函数接收的输入值只有int,long,decimal.Decimal,unicode,datetime.datetime,bool,None"
   ]
  },
  {
   "cell_type": "code",
   "execution_count": 62,
   "metadata": {
    "collapsed": true
   },
   "outputs": [],
   "source": [
    "#使用Workbook类的save方法将整个Workbook对象保存到磁盘\n",
    "wb.save(path+'workbook.xls')"
   ]
  },
  {
   "cell_type": "code",
   "execution_count": 63,
   "metadata": {
    "collapsed": true
   },
   "outputs": [],
   "source": [
    "#生成XLSX文件的步骤与之前基本相同\n",
    "wb=xlsxwriter.Workbook(path+'workbook.xlsx')\n",
    "ws_1=wb.add_worksheet('first_sheet')\n",
    "ws_2=wb.add_worksheet('second_sheet')"
   ]
  },
  {
   "cell_type": "code",
   "execution_count": 64,
   "metadata": {
    "collapsed": true
   },
   "outputs": [],
   "source": [
    "for c in range(data.shape[0]):#纵向多少列\n",
    "    for r in range(data.shape[1]):#横向多少行\n",
    "        ws_1.write(r,c,int(data[c,r]))\n",
    "        ws_2.write(r,c,int(data[r,c]))"
   ]
  },
  {
   "cell_type": "code",
   "execution_count": 65,
   "metadata": {
    "collapsed": true
   },
   "outputs": [],
   "source": [
    "wb.close()"
   ]
  },
  {
   "cell_type": "code",
   "execution_count": 66,
   "metadata": {
    "collapsed": true
   },
   "outputs": [],
   "source": [
    "#xlsxwriter有很多选项来生成Workbook对象，例如图表\n",
    "wb=xlsxwriter.Workbook(path+'chart.xlsx')\n",
    "ws=wb.add_worksheet()\n",
    "values=np.random.standard_normal(15).cumsum()\n",
    "ws.write_column('A1',values)#对列进行命名，并将value写入这一列\n",
    "chart=wb.add_chart({'type':'line'})#创建图表，图表类型line\n",
    "chart.add_series({'values':'=Sheet1!$A$1:$A$15','marker':{'type':'diamond'},})#给chart图表增加对应的数据series,是sheet1里面的A1-A15，用diamond marker类型\n",
    "ws.insert_chart('C1',chart)#把创建的图表insert到C1的位置\n",
    "wb.close()"
   ]
  },
  {
   "cell_type": "code",
   "execution_count": 67,
   "metadata": {},
   "outputs": [
    {
     "data": {
      "text/plain": [
       "<xlrd.book.Book at 0x21cc01958d0>"
      ]
     },
     "execution_count": 67,
     "metadata": {},
     "output_type": "execute_result"
    }
   ],
   "source": [
    "book=xlrd.open_workbook(path+'workbook.xlsx')#xlrd负责从电子表格文件中读取数据\n",
    "book"
   ]
  },
  {
   "cell_type": "code",
   "execution_count": 68,
   "metadata": {},
   "outputs": [
    {
     "data": {
      "text/plain": [
       "['first_sheet', 'second_sheet']"
      ]
     },
     "execution_count": 68,
     "metadata": {},
     "output_type": "execute_result"
    }
   ],
   "source": [
    "book.sheet_names()#sheet_names方法可以提供某个特定workbook对象中所有工作表对象的名称"
   ]
  },
  {
   "cell_type": "code",
   "execution_count": 69,
   "metadata": {},
   "outputs": [
    {
     "data": {
      "text/plain": [
       "<xlrd.sheet.Sheet at 0x21cc014dc50>"
      ]
     },
     "execution_count": 69,
     "metadata": {},
     "output_type": "execute_result"
    }
   ],
   "source": [
    "sheet_1=book.sheet_by_name('first_sheet')#通过名称索引sheet\n",
    "sheet_2=book.sheet_by_index(1)#通过index索引sheet\n",
    "sheet_1"
   ]
  },
  {
   "cell_type": "code",
   "execution_count": 70,
   "metadata": {},
   "outputs": [
    {
     "data": {
      "text/plain": [
       "'second_sheet'"
      ]
     },
     "execution_count": 70,
     "metadata": {},
     "output_type": "execute_result"
    }
   ],
   "source": [
    "sheet_2.name"
   ]
  },
  {
   "cell_type": "code",
   "execution_count": 72,
   "metadata": {},
   "outputs": [
    {
     "data": {
      "text/plain": [
       "(8, 8)"
      ]
     },
     "execution_count": 72,
     "metadata": {},
     "output_type": "execute_result"
    }
   ],
   "source": [
    "sheet_1.ncols,sheet_1.nrows#Worksheet对象的两个重要属性是ncols和nrows，代表表的列数和行数，这些行和列是包含数据的"
   ]
  },
  {
   "cell_type": "code",
   "execution_count": 73,
   "metadata": {
    "collapsed": true
   },
   "outputs": [],
   "source": [
    "c1=sheet_1.cell(0,0)#单元格Cell对象可以通过cell方法来访问，这里需要提供行和列（再一次的，这里标记是0位开始点的）"
   ]
  },
  {
   "cell_type": "code",
   "execution_count": 75,
   "metadata": {},
   "outputs": [
    {
     "data": {
      "text/plain": [
       "1.0"
      ]
     },
     "execution_count": 75,
     "metadata": {},
     "output_type": "execute_result"
    }
   ],
   "source": [
    "c1.value"
   ]
  },
  {
   "cell_type": "markdown",
   "metadata": {},
   "source": [
    "cell的属性value接着给出存储在某个单元格中的数据，属性ctype给出单元格的类型。下面的表格给出了所有的Excel单元格类型。"
   ]
  },
  {
   "attachments": {},
   "cell_type": "markdown",
   "metadata": {},
   "source": [
    "type     |number |python type \n",
    " ------------- |:-------------:| -----:\n",
    "XL_CELL_EMPTY|0|Empty string\n",
    "XL_CELL_TEXT|1|A Unicode string\n",
    "XL_CELL_NUMBER|2|float\n",
    "XL_CELL_DATE|3|float\n",
    "XL_CELL_BOOLEAN|4|int(1=TRUE,0=FALSE)\n",
    "XL_CELL_ERORR|5|int(代表Excel内部代码)\n",
    "XL_CELL_BLANK|6|Empty string，仅仅当formatting_info=True"
   ]
  },
  {
   "cell_type": "code",
   "execution_count": 77,
   "metadata": {},
   "outputs": [
    {
     "data": {
      "text/plain": [
       "[number:25.0,\n",
       " number:26.0,\n",
       " number:27.0,\n",
       " number:28.0,\n",
       " number:29.0,\n",
       " number:30.0,\n",
       " number:31.0,\n",
       " number:32.0]"
      ]
     },
     "execution_count": 77,
     "metadata": {},
     "output_type": "execute_result"
    }
   ],
   "source": [
    "sheet_2.row(3)#定位第四行"
   ]
  },
  {
   "cell_type": "code",
   "execution_count": 78,
   "metadata": {},
   "outputs": [
    {
     "data": {
      "text/plain": [
       "[number:4.0,\n",
       " number:12.0,\n",
       " number:20.0,\n",
       " number:28.0,\n",
       " number:36.0,\n",
       " number:44.0,\n",
       " number:52.0,\n",
       " number:60.0]"
      ]
     },
     "execution_count": 78,
     "metadata": {},
     "output_type": "execute_result"
    }
   ],
   "source": [
    "sheet_2.col(3)#定位第四列"
   ]
  },
  {
   "cell_type": "code",
   "execution_count": 79,
   "metadata": {},
   "outputs": [
    {
     "data": {
      "text/plain": [
       "[28.0, 29.0, 30.0, 31.0]"
      ]
     },
     "execution_count": 79,
     "metadata": {},
     "output_type": "execute_result"
    }
   ],
   "source": [
    "sheet_1.col_values(3,start_rowx=3,end_rowx=7)#定位col列和行区域"
   ]
  },
  {
   "cell_type": "code",
   "execution_count": 80,
   "metadata": {},
   "outputs": [
    {
     "data": {
      "text/plain": [
       "[28.0, 36.0, 44.0, 52.0]"
      ]
     },
     "execution_count": 80,
     "metadata": {},
     "output_type": "execute_result"
    }
   ],
   "source": [
    "sheet_1.row_values(3,start_colx=3,end_colx=7)"
   ]
  },
  {
   "cell_type": "code",
   "execution_count": 88,
   "metadata": {},
   "outputs": [
    {
     "name": "stdout",
     "output_type": "stream",
     "text": [
      "1\n",
      "2\n",
      "3\n",
      "4\n",
      "5\n",
      "6\n",
      "7\n",
      "8\n",
      "9\n",
      "10\n",
      "11\n",
      "12\n",
      "13\n",
      "14\n",
      "15\n",
      "16\n",
      "17\n",
      "18\n",
      "19\n",
      "20\n",
      "21\n",
      "22\n",
      "23\n",
      "24\n",
      "25\n",
      "26\n",
      "27\n",
      "28\n",
      "29\n",
      "30\n",
      "31\n",
      "32\n",
      "33\n",
      "34\n",
      "35\n",
      "36\n",
      "37\n",
      "38\n",
      "39\n",
      "40\n",
      "41\n",
      "42\n",
      "43\n",
      "44\n",
      "45\n",
      "46\n",
      "47\n",
      "48\n",
      "49\n",
      "50\n",
      "51\n",
      "52\n",
      "53\n",
      "54\n",
      "55\n",
      "56\n",
      "57\n",
      "58\n",
      "59\n",
      "60\n",
      "61\n",
      "62\n",
      "63\n",
      "64\n"
     ]
    }
   ],
   "source": [
    "for c in range(sheet_1.ncols):#使用循环可以得到所有表格数据\n",
    "    for r in range(sheet_1.nrows):\n",
    "        print('%i' % sheet_1.cell(r,c).value)"
   ]
  },
  {
   "cell_type": "code",
   "execution_count": 89,
   "metadata": {
    "collapsed": true
   },
   "outputs": [],
   "source": [
    "import openpyxl as oxl\n",
    "#使用OPENPYXL：生成和读取Excel表格文件（用.xlsx结尾）的库"
   ]
  },
  {
   "cell_type": "code",
   "execution_count": 94,
   "metadata": {},
   "outputs": [],
   "source": [
    "wb=oxl.Workbook()\n",
    "ws=wb.create_sheet(index=0,title='oxl_sheet')\n",
    "for c in range(data.shape[0]):\n",
    "    for r in range(data.shape[1]):\n",
    "        ws.cell(row=r+1,column=c+1).value=data[c,r]#openpyxl的cell从1开始数的，而不是0，类似于Excel\n",
    "wb.save(path+'oxl_book.xlsx')"
   ]
  },
  {
   "cell_type": "code",
   "execution_count": 95,
   "metadata": {
    "collapsed": true
   },
   "outputs": [],
   "source": [
    "wb=oxl.load_workbook(path+'oxl_book.xlsx')\n",
    "ws=wb.get_active_sheet()    "
   ]
  },
  {
   "cell_type": "code",
   "execution_count": 96,
   "metadata": {
    "collapsed": true
   },
   "outputs": [],
   "source": [
    "cell=ws['B4']"
   ]
  },
  {
   "cell_type": "code",
   "execution_count": 97,
   "metadata": {},
   "outputs": [
    {
     "data": {
      "text/plain": [
       "'B'"
      ]
     },
     "execution_count": 97,
     "metadata": {},
     "output_type": "execute_result"
    }
   ],
   "source": [
    "cell.column"
   ]
  },
  {
   "cell_type": "code",
   "execution_count": 98,
   "metadata": {},
   "outputs": [
    {
     "data": {
      "text/plain": [
       "4"
      ]
     },
     "execution_count": 98,
     "metadata": {},
     "output_type": "execute_result"
    }
   ],
   "source": [
    "cell.row"
   ]
  },
  {
   "cell_type": "code",
   "execution_count": 99,
   "metadata": {},
   "outputs": [
    {
     "data": {
      "text/plain": [
       "12"
      ]
     },
     "execution_count": 99,
     "metadata": {},
     "output_type": "execute_result"
    }
   ],
   "source": [
    "cell.value"
   ]
  },
  {
   "cell_type": "code",
   "execution_count": 100,
   "metadata": {},
   "outputs": [
    {
     "data": {
      "text/plain": [
       "((<Cell 'oxl_sheet'.B1>,),\n",
       " (<Cell 'oxl_sheet'.B2>,),\n",
       " (<Cell 'oxl_sheet'.B3>,),\n",
       " (<Cell 'oxl_sheet'.B4>,))"
      ]
     },
     "execution_count": 100,
     "metadata": {},
     "output_type": "execute_result"
    }
   ],
   "source": [
    "ws['B1':'B4']#类似于excel"
   ]
  },
  {
   "cell_type": "code",
   "execution_count": 101,
   "metadata": {},
   "outputs": [
    {
     "name": "stdout",
     "output_type": "stream",
     "text": [
      "9\n",
      "10\n",
      "11\n",
      "12\n"
     ]
    }
   ],
   "source": [
    "for cell in ws['B1':'B4']:\n",
    "    print(cell[0].value)\n",
    "#例如cell: (<Cell 'oxl_sheet'.B4>,),tuple,本身没有value方法\n",
    "#cell[0]：<Cell 'oxl_sheet'.B4>,cell类，有value"
   ]
  },
  {
   "cell_type": "code",
   "execution_count": 115,
   "metadata": {
    "scrolled": false
   },
   "outputs": [],
   "source": [
    "df_1=pd.read_excel(path+'workbook.xlsx','first_sheet',header=None)\n",
    "df_2=pd.read_excel(path+'workbook.xlsx','second_sheet',header=None)#使用header=None选项，pandas并不将数据的第一行解释为数据集的表头"
   ]
  },
  {
   "cell_type": "code",
   "execution_count": 119,
   "metadata": {},
   "outputs": [
    {
     "data": {
      "text/plain": [
       "['A', 'B', 'C', 'D', 'E', 'F', 'G', 'H']"
      ]
     },
     "execution_count": 119,
     "metadata": {},
     "output_type": "execute_result"
    }
   ],
   "source": [
    "import string\n",
    "columns=[]\n",
    "for c in range(data.shape[0]):\n",
    "    columns.append(string.ascii_uppercase[c])\n",
    "columns"
   ]
  },
  {
   "cell_type": "code",
   "execution_count": 120,
   "metadata": {
    "collapsed": true
   },
   "outputs": [],
   "source": [
    "df_1.columns=columns\n",
    "df_2.columns=columns"
   ]
  },
  {
   "cell_type": "code",
   "execution_count": 121,
   "metadata": {
    "collapsed": true
   },
   "outputs": [],
   "source": [
    "df_1.to_excel(path+'new_book_1.xlsx','my_sheet')#单独调用只能写一个表格"
   ]
  },
  {
   "cell_type": "code",
   "execution_count": 123,
   "metadata": {},
   "outputs": [
    {
     "data": {
      "text/plain": [
       "['my_sheet']"
      ]
     },
     "execution_count": 123,
     "metadata": {},
     "output_type": "execute_result"
    }
   ],
   "source": [
    "wbn=xlrd.open_workbook(path+'new_book_1.xlsx')\n",
    "wbn.sheet_names()"
   ]
  },
  {
   "cell_type": "code",
   "execution_count": 127,
   "metadata": {
    "collapsed": true
   },
   "outputs": [],
   "source": [
    "wbw=pd.ExcelWriter(path+'new_book_2.xlsx')#如果要将多个DataFrame对象写入单一的电子表格文件，我们需要ExcelWriter对象\n",
    "df_1.to_excel(wbw,'first_sheet')\n",
    "df_2.to_excel(wbw,'second_sheet')\n",
    "wbw.save()"
   ]
  },
  {
   "cell_type": "code",
   "execution_count": 128,
   "metadata": {},
   "outputs": [
    {
     "data": {
      "text/plain": [
       "16000000"
      ]
     },
     "execution_count": 128,
     "metadata": {},
     "output_type": "execute_result"
    }
   ],
   "source": [
    "#大量数据的情况\n",
    "data=np.random.rand(20,100000)\n",
    "data.nbytes"
   ]
  },
  {
   "cell_type": "code",
   "execution_count": 129,
   "metadata": {
    "collapsed": true
   },
   "outputs": [],
   "source": [
    "df=pd.DataFrame(data)"
   ]
  },
  {
   "cell_type": "code",
   "execution_count": 130,
   "metadata": {},
   "outputs": [
    {
     "name": "stdout",
     "output_type": "stream",
     "text": [
      "Wall time: 32.7 s\n"
     ]
    }
   ],
   "source": [
    "%time df.to_excel(path+'data.xlsx','data_sheet')#写入到磁盘Excel文件，这样会有一定的时间消耗"
   ]
  },
  {
   "cell_type": "code",
   "execution_count": 131,
   "metadata": {},
   "outputs": [
    {
     "name": "stdout",
     "output_type": "stream",
     "text": [
      "Wall time: 16 ms\n"
     ]
    }
   ],
   "source": [
    "%time np.save(path+'data',data)#如果写入NumPy ndarray存储，非常快"
   ]
  },
  {
   "cell_type": "code",
   "execution_count": 132,
   "metadata": {},
   "outputs": [
    {
     "name": "stdout",
     "output_type": "stream",
     "text": [
      "Wall time: 4.06 s\n"
     ]
    }
   ],
   "source": [
    "%time df=pd.read_excel(path+'data.xlsx','data_sheet')"
   ]
  },
  {
   "cell_type": "code",
   "execution_count": 133,
   "metadata": {},
   "outputs": [
    {
     "name": "stdout",
     "output_type": "stream",
     "text": [
      "Wall time: 15 ms\n"
     ]
    }
   ],
   "source": [
    "%time data=np.load(path+'data.npy')"
   ]
  },
  {
   "attachments": {},
   "cell_type": "markdown",
   "metadata": {},
   "source": [
    "将Python的分析功能应用到Excel工作簿上，是一个更为需要技术的工作。例如Python库PyXLL提供了通过Excel插件的方式应用Python函数的方法，DataNitro公司提供了一个解决方案，完全的整合了Python和Excel，使得Python完全成为了VBA的替代。"
   ]
  },
  {
   "attachments": {},
   "cell_type": "markdown",
   "metadata": {},
   "source": [
    "安装DataNitro：需要使用Windows操作系统，网站http://www.datanitro.com， 获取试用的授权。 在安装DataNitro的时候，可以选择安装Python，如果已经安装了Python或Anaconda，则可以不进行安装。如果不安装，需要在settings菜单中指定anaconda中的python路径。"
   ]
  },
  {
   "cell_type": "markdown",
   "metadata": {},
   "source": [
    "DataNitro is no longer for purchase. 建议选择学习微软自带的VBA语言，以便于Excel高级操作，亦可全部改用Python。"
   ]
  },
  {
   "attachments": {},
   "cell_type": "markdown",
   "metadata": {},
   "source": [
    "xlwings也是一个集成Python和Excel的工具，http://www.xlwings.org ，提供用Python和Excel电子表格交互和编写脚本的功能。它是一个开源库，可以免费随任何电子表格发送。xlwing的接收者只需要（最小）Python安装就可以驱动电子表格，其优势之一就是可以和Windows和Apple/Mac操作系统的Excel一起使用。"
   ]
  }
 ],
 "metadata": {
  "kernelspec": {
   "display_name": "Python 3",
   "language": "python",
   "name": "python3"
  },
  "language_info": {
   "codemirror_mode": {
    "name": "ipython",
    "version": 3
   },
   "file_extension": ".py",
   "mimetype": "text/x-python",
   "name": "python",
   "nbconvert_exporter": "python",
   "pygments_lexer": "ipython3",
   "version": "3.6.3"
  }
 },
 "nbformat": 4,
 "nbformat_minor": 2
}
