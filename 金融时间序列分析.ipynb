{
 "cells": [
  {
   "attachments": {},
   "cell_type": "markdown",
   "metadata": {},
   "source": [
    "在Python中处理时间序列的主要工具是pandas，pandas是由AQR资本管理公司的分析师Wes McKinney所开发的，从一开始就是为了处理金融时间序列而开发的。它的主要构成是一些基础类，比如DataFrame和Series类，这些类来自于统计分析语言R，无疑提升了这个建模和分析的力量。"
   ]
  },
  {
   "cell_type": "code",
   "execution_count": 1,
   "metadata": {
    "collapsed": true
   },
   "outputs": [],
   "source": [
    "import numpy as np\n",
    "import pandas as pd"
   ]
  },
  {
   "attachments": {},
   "cell_type": "markdown",
   "metadata": {},
   "source": [
    "Dataframe对象的创建中主要有以下要点:\n",
    "* Data: 数据本身可以由多种形状和类型给出（list, tuple, ndarray和dict对象都是可以选择的）\n",
    "* Labels：数据应当按列排放，而这个列可以有个性化的名称\n",
    "* Index：这里可以有一个索引，索引可以有不同的格式（例如：数字、字符串和信息）\n",
    "* 在各个维度拓展DataFrame对象都是很容易的\n"
   ]
  },
  {
   "cell_type": "code",
   "execution_count": 29,
   "metadata": {
    "collapsed": true
   },
   "outputs": [],
   "source": [
    "df=pd.DataFrame([10,20,30,40],columns=['number'],index=['a','b','c','d'])\n",
    "#DataFrame类似于SQL数据库以及电子表格应用的表格数据"
   ]
  },
  {
   "cell_type": "code",
   "execution_count": 30,
   "metadata": {},
   "outputs": [
    {
     "data": {
      "text/html": [
       "<div>\n",
       "<style>\n",
       "    .dataframe thead tr:only-child th {\n",
       "        text-align: right;\n",
       "    }\n",
       "\n",
       "    .dataframe thead th {\n",
       "        text-align: left;\n",
       "    }\n",
       "\n",
       "    .dataframe tbody tr th {\n",
       "        vertical-align: top;\n",
       "    }\n",
       "</style>\n",
       "<table border=\"1\" class=\"dataframe\">\n",
       "  <thead>\n",
       "    <tr style=\"text-align: right;\">\n",
       "      <th></th>\n",
       "      <th>number</th>\n",
       "    </tr>\n",
       "  </thead>\n",
       "  <tbody>\n",
       "    <tr>\n",
       "      <th>a</th>\n",
       "      <td>10</td>\n",
       "    </tr>\n",
       "    <tr>\n",
       "      <th>b</th>\n",
       "      <td>20</td>\n",
       "    </tr>\n",
       "    <tr>\n",
       "      <th>c</th>\n",
       "      <td>30</td>\n",
       "    </tr>\n",
       "    <tr>\n",
       "      <th>d</th>\n",
       "      <td>40</td>\n",
       "    </tr>\n",
       "  </tbody>\n",
       "</table>\n",
       "</div>"
      ],
      "text/plain": [
       "   number\n",
       "a      10\n",
       "b      20\n",
       "c      30\n",
       "d      40"
      ]
     },
     "execution_count": 30,
     "metadata": {},
     "output_type": "execute_result"
    }
   ],
   "source": [
    "df"
   ]
  },
  {
   "cell_type": "code",
   "execution_count": 31,
   "metadata": {},
   "outputs": [
    {
     "data": {
      "text/plain": [
       "Index(['a', 'b', 'c', 'd'], dtype='object')"
      ]
     },
     "execution_count": 31,
     "metadata": {},
     "output_type": "execute_result"
    }
   ],
   "source": [
    "df.index"
   ]
  },
  {
   "cell_type": "code",
   "execution_count": 32,
   "metadata": {},
   "outputs": [
    {
     "data": {
      "text/plain": [
       "Index(['number'], dtype='object')"
      ]
     },
     "execution_count": 32,
     "metadata": {},
     "output_type": "execute_result"
    }
   ],
   "source": [
    "df.columns"
   ]
  },
  {
   "cell_type": "code",
   "execution_count": 33,
   "metadata": {},
   "outputs": [
    {
     "data": {
      "text/plain": [
       "number    30\n",
       "Name: c, dtype: int64"
      ]
     },
     "execution_count": 33,
     "metadata": {},
     "output_type": "execute_result"
    }
   ],
   "source": [
    "df.loc['c']#for label based indexing"
   ]
  },
  {
   "cell_type": "code",
   "execution_count": 34,
   "metadata": {},
   "outputs": [
    {
     "data": {
      "text/plain": [
       "number    30\n",
       "Name: c, dtype: int64"
      ]
     },
     "execution_count": 34,
     "metadata": {},
     "output_type": "execute_result"
    }
   ],
   "source": [
    "df.iloc[2]#for position based indexing"
   ]
  },
  {
   "cell_type": "code",
   "execution_count": 35,
   "metadata": {},
   "outputs": [
    {
     "data": {
      "text/html": [
       "<div>\n",
       "<style>\n",
       "    .dataframe thead tr:only-child th {\n",
       "        text-align: right;\n",
       "    }\n",
       "\n",
       "    .dataframe thead th {\n",
       "        text-align: left;\n",
       "    }\n",
       "\n",
       "    .dataframe tbody tr th {\n",
       "        vertical-align: top;\n",
       "    }\n",
       "</style>\n",
       "<table border=\"1\" class=\"dataframe\">\n",
       "  <thead>\n",
       "    <tr style=\"text-align: right;\">\n",
       "      <th></th>\n",
       "      <th>number</th>\n",
       "    </tr>\n",
       "  </thead>\n",
       "  <tbody>\n",
       "    <tr>\n",
       "      <th>a</th>\n",
       "      <td>10</td>\n",
       "    </tr>\n",
       "    <tr>\n",
       "      <th>b</th>\n",
       "      <td>20</td>\n",
       "    </tr>\n",
       "  </tbody>\n",
       "</table>\n",
       "</div>"
      ],
      "text/plain": [
       "   number\n",
       "a      10\n",
       "b      20"
      ]
     },
     "execution_count": 35,
     "metadata": {},
     "output_type": "execute_result"
    }
   ],
   "source": [
    "df.loc[['a','b']]"
   ]
  },
  {
   "cell_type": "code",
   "execution_count": 36,
   "metadata": {},
   "outputs": [
    {
     "data": {
      "text/html": [
       "<div>\n",
       "<style>\n",
       "    .dataframe thead tr:only-child th {\n",
       "        text-align: right;\n",
       "    }\n",
       "\n",
       "    .dataframe thead th {\n",
       "        text-align: left;\n",
       "    }\n",
       "\n",
       "    .dataframe tbody tr th {\n",
       "        vertical-align: top;\n",
       "    }\n",
       "</style>\n",
       "<table border=\"1\" class=\"dataframe\">\n",
       "  <thead>\n",
       "    <tr style=\"text-align: right;\">\n",
       "      <th></th>\n",
       "      <th>number</th>\n",
       "    </tr>\n",
       "  </thead>\n",
       "  <tbody>\n",
       "    <tr>\n",
       "      <th>b</th>\n",
       "      <td>20</td>\n",
       "    </tr>\n",
       "    <tr>\n",
       "      <th>c</th>\n",
       "      <td>30</td>\n",
       "    </tr>\n",
       "  </tbody>\n",
       "</table>\n",
       "</div>"
      ],
      "text/plain": [
       "   number\n",
       "b      20\n",
       "c      30"
      ]
     },
     "execution_count": 36,
     "metadata": {},
     "output_type": "execute_result"
    }
   ],
   "source": [
    "df.loc[df.index[1:3]]#df.index[1:3]左闭右开区间"
   ]
  },
  {
   "cell_type": "code",
   "execution_count": 37,
   "metadata": {},
   "outputs": [
    {
     "data": {
      "text/plain": [
       "number    100\n",
       "dtype: int64"
      ]
     },
     "execution_count": 37,
     "metadata": {},
     "output_type": "execute_result"
    }
   ],
   "source": [
    "df.sum()#类似于ndarray"
   ]
  },
  {
   "cell_type": "code",
   "execution_count": 38,
   "metadata": {},
   "outputs": [
    {
     "data": {
      "text/html": [
       "<div>\n",
       "<style>\n",
       "    .dataframe thead tr:only-child th {\n",
       "        text-align: right;\n",
       "    }\n",
       "\n",
       "    .dataframe thead th {\n",
       "        text-align: left;\n",
       "    }\n",
       "\n",
       "    .dataframe tbody tr th {\n",
       "        vertical-align: top;\n",
       "    }\n",
       "</style>\n",
       "<table border=\"1\" class=\"dataframe\">\n",
       "  <thead>\n",
       "    <tr style=\"text-align: right;\">\n",
       "      <th></th>\n",
       "      <th>number</th>\n",
       "    </tr>\n",
       "  </thead>\n",
       "  <tbody>\n",
       "    <tr>\n",
       "      <th>a</th>\n",
       "      <td>100</td>\n",
       "    </tr>\n",
       "    <tr>\n",
       "      <th>b</th>\n",
       "      <td>400</td>\n",
       "    </tr>\n",
       "    <tr>\n",
       "      <th>c</th>\n",
       "      <td>900</td>\n",
       "    </tr>\n",
       "    <tr>\n",
       "      <th>d</th>\n",
       "      <td>1600</td>\n",
       "    </tr>\n",
       "  </tbody>\n",
       "</table>\n",
       "</div>"
      ],
      "text/plain": [
       "   number\n",
       "a     100\n",
       "b     400\n",
       "c     900\n",
       "d    1600"
      ]
     },
     "execution_count": 38,
     "metadata": {},
     "output_type": "execute_result"
    }
   ],
   "source": [
    "df.apply(lambda x:x**2)#对dataframe类应用apply和lamda函数,类似于ndarray"
   ]
  },
  {
   "cell_type": "code",
   "execution_count": 39,
   "metadata": {},
   "outputs": [
    {
     "data": {
      "text/html": [
       "<div>\n",
       "<style>\n",
       "    .dataframe thead tr:only-child th {\n",
       "        text-align: right;\n",
       "    }\n",
       "\n",
       "    .dataframe thead th {\n",
       "        text-align: left;\n",
       "    }\n",
       "\n",
       "    .dataframe tbody tr th {\n",
       "        vertical-align: top;\n",
       "    }\n",
       "</style>\n",
       "<table border=\"1\" class=\"dataframe\">\n",
       "  <thead>\n",
       "    <tr style=\"text-align: right;\">\n",
       "      <th></th>\n",
       "      <th>number</th>\n",
       "      <th>floats</th>\n",
       "    </tr>\n",
       "  </thead>\n",
       "  <tbody>\n",
       "    <tr>\n",
       "      <th>a</th>\n",
       "      <td>10</td>\n",
       "      <td>1.5</td>\n",
       "    </tr>\n",
       "    <tr>\n",
       "      <th>b</th>\n",
       "      <td>20</td>\n",
       "      <td>2.5</td>\n",
       "    </tr>\n",
       "    <tr>\n",
       "      <th>c</th>\n",
       "      <td>30</td>\n",
       "      <td>3.5</td>\n",
       "    </tr>\n",
       "    <tr>\n",
       "      <th>d</th>\n",
       "      <td>40</td>\n",
       "      <td>4.5</td>\n",
       "    </tr>\n",
       "  </tbody>\n",
       "</table>\n",
       "</div>"
      ],
      "text/plain": [
       "   number  floats\n",
       "a      10     1.5\n",
       "b      20     2.5\n",
       "c      30     3.5\n",
       "d      40     4.5"
      ]
     },
     "execution_count": 39,
     "metadata": {},
     "output_type": "execute_result"
    }
   ],
   "source": [
    "df['floats']=(1.5,2.5,3.5,4.5)#在各个维度拓展DataFrame对象都是很容易的\n",
    "df"
   ]
  },
  {
   "cell_type": "code",
   "execution_count": 40,
   "metadata": {},
   "outputs": [
    {
     "data": {
      "text/plain": [
       "a    1.5\n",
       "b    2.5\n",
       "c    3.5\n",
       "d    4.5\n",
       "Name: floats, dtype: float64"
      ]
     },
     "execution_count": 40,
     "metadata": {},
     "output_type": "execute_result"
    }
   ],
   "source": [
    "df['floats']"
   ]
  },
  {
   "cell_type": "code",
   "execution_count": 41,
   "metadata": {
    "collapsed": true
   },
   "outputs": [],
   "source": [
    "df['name']=pd.DataFrame(['Yves','Guido','Felix','Francesc'], index=['d','a','b','c'])\n",
    "#整个DataFrame对象也可以用于定义一个新列name，在这种情况下，指数自动对应。"
   ]
  },
  {
   "cell_type": "code",
   "execution_count": 42,
   "metadata": {},
   "outputs": [
    {
     "data": {
      "text/html": [
       "<div>\n",
       "<style>\n",
       "    .dataframe thead tr:only-child th {\n",
       "        text-align: right;\n",
       "    }\n",
       "\n",
       "    .dataframe thead th {\n",
       "        text-align: left;\n",
       "    }\n",
       "\n",
       "    .dataframe tbody tr th {\n",
       "        vertical-align: top;\n",
       "    }\n",
       "</style>\n",
       "<table border=\"1\" class=\"dataframe\">\n",
       "  <thead>\n",
       "    <tr style=\"text-align: right;\">\n",
       "      <th></th>\n",
       "      <th>number</th>\n",
       "      <th>floats</th>\n",
       "      <th>name</th>\n",
       "    </tr>\n",
       "  </thead>\n",
       "  <tbody>\n",
       "    <tr>\n",
       "      <th>a</th>\n",
       "      <td>10</td>\n",
       "      <td>1.5</td>\n",
       "      <td>Guido</td>\n",
       "    </tr>\n",
       "    <tr>\n",
       "      <th>b</th>\n",
       "      <td>20</td>\n",
       "      <td>2.5</td>\n",
       "      <td>Felix</td>\n",
       "    </tr>\n",
       "    <tr>\n",
       "      <th>c</th>\n",
       "      <td>30</td>\n",
       "      <td>3.5</td>\n",
       "      <td>Francesc</td>\n",
       "    </tr>\n",
       "    <tr>\n",
       "      <th>d</th>\n",
       "      <td>40</td>\n",
       "      <td>4.5</td>\n",
       "      <td>Yves</td>\n",
       "    </tr>\n",
       "  </tbody>\n",
       "</table>\n",
       "</div>"
      ],
      "text/plain": [
       "   number  floats      name\n",
       "a      10     1.5     Guido\n",
       "b      20     2.5     Felix\n",
       "c      30     3.5  Francesc\n",
       "d      40     4.5      Yves"
      ]
     },
     "execution_count": 42,
     "metadata": {},
     "output_type": "execute_result"
    }
   ],
   "source": [
    "df"
   ]
  },
  {
   "cell_type": "code",
   "execution_count": 43,
   "metadata": {},
   "outputs": [
    {
     "data": {
      "text/html": [
       "<div>\n",
       "<style>\n",
       "    .dataframe thead tr:only-child th {\n",
       "        text-align: right;\n",
       "    }\n",
       "\n",
       "    .dataframe thead th {\n",
       "        text-align: left;\n",
       "    }\n",
       "\n",
       "    .dataframe tbody tr th {\n",
       "        vertical-align: top;\n",
       "    }\n",
       "</style>\n",
       "<table border=\"1\" class=\"dataframe\">\n",
       "  <thead>\n",
       "    <tr style=\"text-align: right;\">\n",
       "      <th></th>\n",
       "      <th>number</th>\n",
       "      <th>floats</th>\n",
       "      <th>name</th>\n",
       "    </tr>\n",
       "  </thead>\n",
       "  <tbody>\n",
       "    <tr>\n",
       "      <th>0</th>\n",
       "      <td>10</td>\n",
       "      <td>1.50</td>\n",
       "      <td>Guido</td>\n",
       "    </tr>\n",
       "    <tr>\n",
       "      <th>1</th>\n",
       "      <td>20</td>\n",
       "      <td>2.50</td>\n",
       "      <td>Felix</td>\n",
       "    </tr>\n",
       "    <tr>\n",
       "      <th>2</th>\n",
       "      <td>30</td>\n",
       "      <td>3.50</td>\n",
       "      <td>Francesc</td>\n",
       "    </tr>\n",
       "    <tr>\n",
       "      <th>3</th>\n",
       "      <td>40</td>\n",
       "      <td>4.50</td>\n",
       "      <td>Yves</td>\n",
       "    </tr>\n",
       "    <tr>\n",
       "      <th>4</th>\n",
       "      <td>100</td>\n",
       "      <td>5.75</td>\n",
       "      <td>Henry</td>\n",
       "    </tr>\n",
       "  </tbody>\n",
       "</table>\n",
       "</div>"
      ],
      "text/plain": [
       "   number  floats      name\n",
       "0      10    1.50     Guido\n",
       "1      20    2.50     Felix\n",
       "2      30    3.50  Francesc\n",
       "3      40    4.50      Yves\n",
       "4     100    5.75     Henry"
      ]
     },
     "execution_count": 43,
     "metadata": {},
     "output_type": "execute_result"
    }
   ],
   "source": [
    "df.append({'number':100,'floats':5.75,'name':'Henry'},ignore_index=True)\n",
    "#在行下面append,可以是dict类，追加数据并不影响df本身\n",
    "#索引被替代为一个单一的数字索引，原来的abcd被ignore了\n",
    "#通常在给一个DataFrame对象进行追加的时候，都应当提供合适的索引信息，这会保持索引,而不是ignore_index=True"
   ]
  },
  {
   "cell_type": "code",
   "execution_count": 44,
   "metadata": {},
   "outputs": [
    {
     "data": {
      "text/html": [
       "<div>\n",
       "<style>\n",
       "    .dataframe thead tr:only-child th {\n",
       "        text-align: right;\n",
       "    }\n",
       "\n",
       "    .dataframe thead th {\n",
       "        text-align: left;\n",
       "    }\n",
       "\n",
       "    .dataframe tbody tr th {\n",
       "        vertical-align: top;\n",
       "    }\n",
       "</style>\n",
       "<table border=\"1\" class=\"dataframe\">\n",
       "  <thead>\n",
       "    <tr style=\"text-align: right;\">\n",
       "      <th></th>\n",
       "      <th>number</th>\n",
       "      <th>floats</th>\n",
       "      <th>name</th>\n",
       "      <th>squares</th>\n",
       "    </tr>\n",
       "  </thead>\n",
       "  <tbody>\n",
       "    <tr>\n",
       "      <th>a</th>\n",
       "      <td>10</td>\n",
       "      <td>1.5</td>\n",
       "      <td>Guido</td>\n",
       "      <td>1</td>\n",
       "    </tr>\n",
       "    <tr>\n",
       "      <th>b</th>\n",
       "      <td>20</td>\n",
       "      <td>2.5</td>\n",
       "      <td>Felix</td>\n",
       "      <td>4</td>\n",
       "    </tr>\n",
       "    <tr>\n",
       "      <th>c</th>\n",
       "      <td>30</td>\n",
       "      <td>3.5</td>\n",
       "      <td>Francesc</td>\n",
       "      <td>9</td>\n",
       "    </tr>\n",
       "    <tr>\n",
       "      <th>d</th>\n",
       "      <td>40</td>\n",
       "      <td>4.5</td>\n",
       "      <td>Yves</td>\n",
       "      <td>16</td>\n",
       "    </tr>\n",
       "  </tbody>\n",
       "</table>\n",
       "</div>"
      ],
      "text/plain": [
       "   number  floats      name  squares\n",
       "a      10     1.5     Guido        1\n",
       "b      20     2.5     Felix        4\n",
       "c      30     3.5  Francesc        9\n",
       "d      40     4.5      Yves       16"
      ]
     },
     "execution_count": 44,
     "metadata": {},
     "output_type": "execute_result"
    }
   ],
   "source": [
    "df.join(pd.DataFrame([1,4,9,16,25],index=['a','b','c','d','y'],columns=['squares',]))\n",
    "#多出来的索引为y的数据并没有join进去\n",
    "#使用join方法会忽略掉索引不存在的位置的数据"
   ]
  },
  {
   "cell_type": "code",
   "execution_count": 45,
   "metadata": {
    "collapsed": true
   },
   "outputs": [],
   "source": [
    "df=df.join(pd.DataFrame([1,4,9,16,25],index=['a','b','c','d','y'], columns=['squares',]),how='outer')\n",
    "#为了保持数据，我们需要提供一个参数how=outer，这样在忽略数据的位置，会使用NaN来代替"
   ]
  },
  {
   "cell_type": "code",
   "execution_count": 46,
   "metadata": {},
   "outputs": [
    {
     "data": {
      "text/html": [
       "<div>\n",
       "<style>\n",
       "    .dataframe thead tr:only-child th {\n",
       "        text-align: right;\n",
       "    }\n",
       "\n",
       "    .dataframe thead th {\n",
       "        text-align: left;\n",
       "    }\n",
       "\n",
       "    .dataframe tbody tr th {\n",
       "        vertical-align: top;\n",
       "    }\n",
       "</style>\n",
       "<table border=\"1\" class=\"dataframe\">\n",
       "  <thead>\n",
       "    <tr style=\"text-align: right;\">\n",
       "      <th></th>\n",
       "      <th>number</th>\n",
       "      <th>floats</th>\n",
       "      <th>name</th>\n",
       "      <th>squares</th>\n",
       "    </tr>\n",
       "  </thead>\n",
       "  <tbody>\n",
       "    <tr>\n",
       "      <th>a</th>\n",
       "      <td>10.0</td>\n",
       "      <td>1.5</td>\n",
       "      <td>Guido</td>\n",
       "      <td>1</td>\n",
       "    </tr>\n",
       "    <tr>\n",
       "      <th>b</th>\n",
       "      <td>20.0</td>\n",
       "      <td>2.5</td>\n",
       "      <td>Felix</td>\n",
       "      <td>4</td>\n",
       "    </tr>\n",
       "    <tr>\n",
       "      <th>c</th>\n",
       "      <td>30.0</td>\n",
       "      <td>3.5</td>\n",
       "      <td>Francesc</td>\n",
       "      <td>9</td>\n",
       "    </tr>\n",
       "    <tr>\n",
       "      <th>d</th>\n",
       "      <td>40.0</td>\n",
       "      <td>4.5</td>\n",
       "      <td>Yves</td>\n",
       "      <td>16</td>\n",
       "    </tr>\n",
       "    <tr>\n",
       "      <th>y</th>\n",
       "      <td>NaN</td>\n",
       "      <td>NaN</td>\n",
       "      <td>NaN</td>\n",
       "      <td>25</td>\n",
       "    </tr>\n",
       "  </tbody>\n",
       "</table>\n",
       "</div>"
      ],
      "text/plain": [
       "   number  floats      name  squares\n",
       "a    10.0     1.5     Guido        1\n",
       "b    20.0     2.5     Felix        4\n",
       "c    30.0     3.5  Francesc        9\n",
       "d    40.0     4.5      Yves       16\n",
       "y     NaN     NaN       NaN       25"
      ]
     },
     "execution_count": 46,
     "metadata": {},
     "output_type": "execute_result"
    }
   ],
   "source": [
    "df#这里的index=y有缺失的数据"
   ]
  },
  {
   "cell_type": "code",
   "execution_count": 47,
   "metadata": {},
   "outputs": [
    {
     "data": {
      "text/plain": [
       "number     25.0\n",
       "squares    11.0\n",
       "dtype: float64"
      ]
     },
     "execution_count": 47,
     "metadata": {},
     "output_type": "execute_result"
    }
   ],
   "source": [
    "df[['number','squares']].mean()#虽然存在缺失值，但是大多数方法仍然是可以工作的\n",
    "#mean,忽略缺失值，求非缺失值的平均值"
   ]
  },
  {
   "cell_type": "code",
   "execution_count": 48,
   "metadata": {},
   "outputs": [
    {
     "data": {
      "text/plain": [
       "number     12.909944\n",
       "squares     9.669540\n",
       "dtype: float64"
      ]
     },
     "execution_count": 48,
     "metadata": {},
     "output_type": "execute_result"
    }
   ],
   "source": [
    "df[['number','squares']].std()"
   ]
  },
  {
   "cell_type": "code",
   "execution_count": 51,
   "metadata": {
    "collapsed": true
   },
   "outputs": [],
   "source": [
    "a=np.random.standard_normal((9,4))#生成模拟的伪随机数序列\n",
    "#虽然可以直接生成DataFrame对象，通常在实践中还会使用一个ndarray对象来生成\n",
    "#这个时候pandas会保持其基本的结构而且仅仅加入meta信息（例如：索引数值）。\n",
    "#这是金融应用和一般科学研究的一种典型应用方式。"
   ]
  },
  {
   "cell_type": "code",
   "execution_count": 52,
   "metadata": {},
   "outputs": [
    {
     "data": {
      "text/plain": [
       "array([[ 0.517811, -0.414104,  0.916567,  1.020332],\n",
       "       [-0.150029, -0.161123,  0.01568 ,  1.036827],\n",
       "       [ 1.267032, -1.336809, -0.88233 , -0.676312],\n",
       "       [ 0.005986,  0.346226, -1.36978 ,  1.054449],\n",
       "       [-0.043897,  0.056135, -1.865778,  0.197629],\n",
       "       [ 0.157516, -0.649259, -0.990545, -0.017024],\n",
       "       [ 0.520806,  0.04581 , -0.2194  ,  0.84531 ],\n",
       "       [-0.916993,  0.840562,  0.2666  , -0.388873],\n",
       "       [-1.399945,  0.926318,  0.707304, -0.177441]])"
      ]
     },
     "execution_count": 52,
     "metadata": {},
     "output_type": "execute_result"
    }
   ],
   "source": [
    "a.round(6)"
   ]
  },
  {
   "cell_type": "code",
   "execution_count": 53,
   "metadata": {},
   "outputs": [
    {
     "data": {
      "text/html": [
       "<div>\n",
       "<style>\n",
       "    .dataframe thead tr:only-child th {\n",
       "        text-align: right;\n",
       "    }\n",
       "\n",
       "    .dataframe thead th {\n",
       "        text-align: left;\n",
       "    }\n",
       "\n",
       "    .dataframe tbody tr th {\n",
       "        vertical-align: top;\n",
       "    }\n",
       "</style>\n",
       "<table border=\"1\" class=\"dataframe\">\n",
       "  <thead>\n",
       "    <tr style=\"text-align: right;\">\n",
       "      <th></th>\n",
       "      <th>0</th>\n",
       "      <th>1</th>\n",
       "      <th>2</th>\n",
       "      <th>3</th>\n",
       "    </tr>\n",
       "  </thead>\n",
       "  <tbody>\n",
       "    <tr>\n",
       "      <th>0</th>\n",
       "      <td>0.517811</td>\n",
       "      <td>-0.414104</td>\n",
       "      <td>0.916567</td>\n",
       "      <td>1.020332</td>\n",
       "    </tr>\n",
       "    <tr>\n",
       "      <th>1</th>\n",
       "      <td>-0.150029</td>\n",
       "      <td>-0.161123</td>\n",
       "      <td>0.015680</td>\n",
       "      <td>1.036827</td>\n",
       "    </tr>\n",
       "    <tr>\n",
       "      <th>2</th>\n",
       "      <td>1.267032</td>\n",
       "      <td>-1.336809</td>\n",
       "      <td>-0.882330</td>\n",
       "      <td>-0.676312</td>\n",
       "    </tr>\n",
       "    <tr>\n",
       "      <th>3</th>\n",
       "      <td>0.005986</td>\n",
       "      <td>0.346226</td>\n",
       "      <td>-1.369780</td>\n",
       "      <td>1.054449</td>\n",
       "    </tr>\n",
       "    <tr>\n",
       "      <th>4</th>\n",
       "      <td>-0.043897</td>\n",
       "      <td>0.056135</td>\n",
       "      <td>-1.865778</td>\n",
       "      <td>0.197629</td>\n",
       "    </tr>\n",
       "    <tr>\n",
       "      <th>5</th>\n",
       "      <td>0.157516</td>\n",
       "      <td>-0.649259</td>\n",
       "      <td>-0.990545</td>\n",
       "      <td>-0.017024</td>\n",
       "    </tr>\n",
       "    <tr>\n",
       "      <th>6</th>\n",
       "      <td>0.520806</td>\n",
       "      <td>0.045810</td>\n",
       "      <td>-0.219400</td>\n",
       "      <td>0.845310</td>\n",
       "    </tr>\n",
       "    <tr>\n",
       "      <th>7</th>\n",
       "      <td>-0.916993</td>\n",
       "      <td>0.840562</td>\n",
       "      <td>0.266600</td>\n",
       "      <td>-0.388873</td>\n",
       "    </tr>\n",
       "    <tr>\n",
       "      <th>8</th>\n",
       "      <td>-1.399945</td>\n",
       "      <td>0.926318</td>\n",
       "      <td>0.707304</td>\n",
       "      <td>-0.177441</td>\n",
       "    </tr>\n",
       "  </tbody>\n",
       "</table>\n",
       "</div>"
      ],
      "text/plain": [
       "          0         1         2         3\n",
       "0  0.517811 -0.414104  0.916567  1.020332\n",
       "1 -0.150029 -0.161123  0.015680  1.036827\n",
       "2  1.267032 -1.336809 -0.882330 -0.676312\n",
       "3  0.005986  0.346226 -1.369780  1.054449\n",
       "4 -0.043897  0.056135 -1.865778  0.197629\n",
       "5  0.157516 -0.649259 -0.990545 -0.017024\n",
       "6  0.520806  0.045810 -0.219400  0.845310\n",
       "7 -0.916993  0.840562  0.266600 -0.388873\n",
       "8 -1.399945  0.926318  0.707304 -0.177441"
      ]
     },
     "execution_count": 53,
     "metadata": {},
     "output_type": "execute_result"
    }
   ],
   "source": [
    "df=pd.DataFrame(a)\n",
    "df"
   ]
  },
  {
   "cell_type": "code",
   "execution_count": 56,
   "metadata": {},
   "outputs": [
    {
     "data": {
      "text/html": [
       "<div>\n",
       "<style>\n",
       "    .dataframe thead tr:only-child th {\n",
       "        text-align: right;\n",
       "    }\n",
       "\n",
       "    .dataframe thead th {\n",
       "        text-align: left;\n",
       "    }\n",
       "\n",
       "    .dataframe tbody tr th {\n",
       "        vertical-align: top;\n",
       "    }\n",
       "</style>\n",
       "<table border=\"1\" class=\"dataframe\">\n",
       "  <thead>\n",
       "    <tr style=\"text-align: right;\">\n",
       "      <th></th>\n",
       "      <th>No1</th>\n",
       "      <th>No2</th>\n",
       "      <th>No3</th>\n",
       "      <th>No4</th>\n",
       "    </tr>\n",
       "  </thead>\n",
       "  <tbody>\n",
       "    <tr>\n",
       "      <th>0</th>\n",
       "      <td>0.517811</td>\n",
       "      <td>-0.414104</td>\n",
       "      <td>0.916567</td>\n",
       "      <td>1.020332</td>\n",
       "    </tr>\n",
       "    <tr>\n",
       "      <th>1</th>\n",
       "      <td>-0.150029</td>\n",
       "      <td>-0.161123</td>\n",
       "      <td>0.015680</td>\n",
       "      <td>1.036827</td>\n",
       "    </tr>\n",
       "    <tr>\n",
       "      <th>2</th>\n",
       "      <td>1.267032</td>\n",
       "      <td>-1.336809</td>\n",
       "      <td>-0.882330</td>\n",
       "      <td>-0.676312</td>\n",
       "    </tr>\n",
       "    <tr>\n",
       "      <th>3</th>\n",
       "      <td>0.005986</td>\n",
       "      <td>0.346226</td>\n",
       "      <td>-1.369780</td>\n",
       "      <td>1.054449</td>\n",
       "    </tr>\n",
       "    <tr>\n",
       "      <th>4</th>\n",
       "      <td>-0.043897</td>\n",
       "      <td>0.056135</td>\n",
       "      <td>-1.865778</td>\n",
       "      <td>0.197629</td>\n",
       "    </tr>\n",
       "    <tr>\n",
       "      <th>5</th>\n",
       "      <td>0.157516</td>\n",
       "      <td>-0.649259</td>\n",
       "      <td>-0.990545</td>\n",
       "      <td>-0.017024</td>\n",
       "    </tr>\n",
       "    <tr>\n",
       "      <th>6</th>\n",
       "      <td>0.520806</td>\n",
       "      <td>0.045810</td>\n",
       "      <td>-0.219400</td>\n",
       "      <td>0.845310</td>\n",
       "    </tr>\n",
       "    <tr>\n",
       "      <th>7</th>\n",
       "      <td>-0.916993</td>\n",
       "      <td>0.840562</td>\n",
       "      <td>0.266600</td>\n",
       "      <td>-0.388873</td>\n",
       "    </tr>\n",
       "    <tr>\n",
       "      <th>8</th>\n",
       "      <td>-1.399945</td>\n",
       "      <td>0.926318</td>\n",
       "      <td>0.707304</td>\n",
       "      <td>-0.177441</td>\n",
       "    </tr>\n",
       "  </tbody>\n",
       "</table>\n",
       "</div>"
      ],
      "text/plain": [
       "        No1       No2       No3       No4\n",
       "0  0.517811 -0.414104  0.916567  1.020332\n",
       "1 -0.150029 -0.161123  0.015680  1.036827\n",
       "2  1.267032 -1.336809 -0.882330 -0.676312\n",
       "3  0.005986  0.346226 -1.369780  1.054449\n",
       "4 -0.043897  0.056135 -1.865778  0.197629\n",
       "5  0.157516 -0.649259 -0.990545 -0.017024\n",
       "6  0.520806  0.045810 -0.219400  0.845310\n",
       "7 -0.916993  0.840562  0.266600 -0.388873\n",
       "8 -1.399945  0.926318  0.707304 -0.177441"
      ]
     },
     "execution_count": 56,
     "metadata": {},
     "output_type": "execute_result"
    }
   ],
   "source": [
    "df.columns=[['No1','No2','No3','No4']]#DataFrame对象有列名属性，可以通过list来进行赋值\n",
    "df"
   ]
  },
  {
   "cell_type": "code",
   "execution_count": 55,
   "metadata": {},
   "outputs": [
    {
     "data": {
      "text/plain": [
       "0.34622597575814956"
      ]
     },
     "execution_count": 55,
     "metadata": {},
     "output_type": "execute_result"
    }
   ],
   "source": [
    "df['No2'][3]"
   ]
  },
  {
   "cell_type": "code",
   "execution_count": 61,
   "metadata": {
    "collapsed": true
   },
   "outputs": [],
   "source": [
    "dates=pd.date_range('2018-1-1',periods=9,freq='M')\n",
    "#pandas的date_range函数可以提供有效的处理时间的方法\n",
    "#9个时间点，频率是month，不包括起始日期"
   ]
  },
  {
   "cell_type": "code",
   "execution_count": 62,
   "metadata": {},
   "outputs": [
    {
     "data": {
      "text/plain": [
       "DatetimeIndex(['2018-01-31', '2018-02-28', '2018-03-31', '2018-04-30',\n",
       "               '2018-05-31', '2018-06-30', '2018-07-31', '2018-08-31',\n",
       "               '2018-09-30'],\n",
       "              dtype='datetime64[ns]', freq='M')"
      ]
     },
     "execution_count": 62,
     "metadata": {},
     "output_type": "execute_result"
    }
   ],
   "source": [
    "dates#datetime类"
   ]
  },
  {
   "cell_type": "code",
   "execution_count": 63,
   "metadata": {
    "collapsed": true
   },
   "outputs": [],
   "source": [
    "df.index=dates"
   ]
  },
  {
   "cell_type": "code",
   "execution_count": 64,
   "metadata": {},
   "outputs": [
    {
     "data": {
      "text/html": [
       "<div>\n",
       "<style>\n",
       "    .dataframe thead tr:only-child th {\n",
       "        text-align: right;\n",
       "    }\n",
       "\n",
       "    .dataframe thead th {\n",
       "        text-align: left;\n",
       "    }\n",
       "\n",
       "    .dataframe tbody tr th {\n",
       "        vertical-align: top;\n",
       "    }\n",
       "</style>\n",
       "<table border=\"1\" class=\"dataframe\">\n",
       "  <thead>\n",
       "    <tr style=\"text-align: right;\">\n",
       "      <th></th>\n",
       "      <th>No1</th>\n",
       "      <th>No2</th>\n",
       "      <th>No3</th>\n",
       "      <th>No4</th>\n",
       "    </tr>\n",
       "  </thead>\n",
       "  <tbody>\n",
       "    <tr>\n",
       "      <th>2018-01-31</th>\n",
       "      <td>0.517811</td>\n",
       "      <td>-0.414104</td>\n",
       "      <td>0.916567</td>\n",
       "      <td>1.020332</td>\n",
       "    </tr>\n",
       "    <tr>\n",
       "      <th>2018-02-28</th>\n",
       "      <td>-0.150029</td>\n",
       "      <td>-0.161123</td>\n",
       "      <td>0.015680</td>\n",
       "      <td>1.036827</td>\n",
       "    </tr>\n",
       "    <tr>\n",
       "      <th>2018-03-31</th>\n",
       "      <td>1.267032</td>\n",
       "      <td>-1.336809</td>\n",
       "      <td>-0.882330</td>\n",
       "      <td>-0.676312</td>\n",
       "    </tr>\n",
       "    <tr>\n",
       "      <th>2018-04-30</th>\n",
       "      <td>0.005986</td>\n",
       "      <td>0.346226</td>\n",
       "      <td>-1.369780</td>\n",
       "      <td>1.054449</td>\n",
       "    </tr>\n",
       "    <tr>\n",
       "      <th>2018-05-31</th>\n",
       "      <td>-0.043897</td>\n",
       "      <td>0.056135</td>\n",
       "      <td>-1.865778</td>\n",
       "      <td>0.197629</td>\n",
       "    </tr>\n",
       "    <tr>\n",
       "      <th>2018-06-30</th>\n",
       "      <td>0.157516</td>\n",
       "      <td>-0.649259</td>\n",
       "      <td>-0.990545</td>\n",
       "      <td>-0.017024</td>\n",
       "    </tr>\n",
       "    <tr>\n",
       "      <th>2018-07-31</th>\n",
       "      <td>0.520806</td>\n",
       "      <td>0.045810</td>\n",
       "      <td>-0.219400</td>\n",
       "      <td>0.845310</td>\n",
       "    </tr>\n",
       "    <tr>\n",
       "      <th>2018-08-31</th>\n",
       "      <td>-0.916993</td>\n",
       "      <td>0.840562</td>\n",
       "      <td>0.266600</td>\n",
       "      <td>-0.388873</td>\n",
       "    </tr>\n",
       "    <tr>\n",
       "      <th>2018-09-30</th>\n",
       "      <td>-1.399945</td>\n",
       "      <td>0.926318</td>\n",
       "      <td>0.707304</td>\n",
       "      <td>-0.177441</td>\n",
       "    </tr>\n",
       "  </tbody>\n",
       "</table>\n",
       "</div>"
      ],
      "text/plain": [
       "                 No1       No2       No3       No4\n",
       "2018-01-31  0.517811 -0.414104  0.916567  1.020332\n",
       "2018-02-28 -0.150029 -0.161123  0.015680  1.036827\n",
       "2018-03-31  1.267032 -1.336809 -0.882330 -0.676312\n",
       "2018-04-30  0.005986  0.346226 -1.369780  1.054449\n",
       "2018-05-31 -0.043897  0.056135 -1.865778  0.197629\n",
       "2018-06-30  0.157516 -0.649259 -0.990545 -0.017024\n",
       "2018-07-31  0.520806  0.045810 -0.219400  0.845310\n",
       "2018-08-31 -0.916993  0.840562  0.266600 -0.388873\n",
       "2018-09-30 -1.399945  0.926318  0.707304 -0.177441"
      ]
     },
     "execution_count": 64,
     "metadata": {},
     "output_type": "execute_result"
    }
   ],
   "source": [
    "df"
   ]
  },
  {
   "cell_type": "code",
   "execution_count": 65,
   "metadata": {},
   "outputs": [
    {
     "data": {
      "text/plain": [
       "array([[ 0.517811, -0.414104,  0.916567,  1.020332],\n",
       "       [-0.150029, -0.161123,  0.01568 ,  1.036827],\n",
       "       [ 1.267032, -1.336809, -0.88233 , -0.676312],\n",
       "       [ 0.005986,  0.346226, -1.36978 ,  1.054449],\n",
       "       [-0.043897,  0.056135, -1.865778,  0.197629],\n",
       "       [ 0.157516, -0.649259, -0.990545, -0.017024],\n",
       "       [ 0.520806,  0.04581 , -0.2194  ,  0.84531 ],\n",
       "       [-0.916993,  0.840562,  0.2666  , -0.388873],\n",
       "       [-1.399945,  0.926318,  0.707304, -0.177441]])"
      ]
     },
     "execution_count": 65,
     "metadata": {},
     "output_type": "execute_result"
    }
   ],
   "source": [
    "np.array(df).round(6)\n",
    "#将DataFrame转换成NumPy.ndarray同样是可行的"
   ]
  },
  {
   "attachments": {},
   "cell_type": "markdown",
   "metadata": {},
   "source": [
    "Pandas的DataFrame类也提供了大量方便的方法。例如，你可以很容易的计算按列的求和、平均值和累计和。"
   ]
  },
  {
   "cell_type": "code",
   "execution_count": 67,
   "metadata": {},
   "outputs": [
    {
     "data": {
      "text/plain": [
       "No1   -0.041713\n",
       "No2   -0.346243\n",
       "No3   -3.421684\n",
       "No4    2.894896\n",
       "dtype: float64"
      ]
     },
     "execution_count": 67,
     "metadata": {},
     "output_type": "execute_result"
    }
   ],
   "source": [
    "df.sum()"
   ]
  },
  {
   "cell_type": "code",
   "execution_count": 68,
   "metadata": {},
   "outputs": [
    {
     "data": {
      "text/plain": [
       "No1   -0.004635\n",
       "No2   -0.038471\n",
       "No3   -0.380187\n",
       "No4    0.321655\n",
       "dtype: float64"
      ]
     },
     "execution_count": 68,
     "metadata": {},
     "output_type": "execute_result"
    }
   ],
   "source": [
    "df.mean()"
   ]
  },
  {
   "cell_type": "code",
   "execution_count": 69,
   "metadata": {},
   "outputs": [
    {
     "data": {
      "text/html": [
       "<div>\n",
       "<style>\n",
       "    .dataframe thead tr:only-child th {\n",
       "        text-align: right;\n",
       "    }\n",
       "\n",
       "    .dataframe thead th {\n",
       "        text-align: left;\n",
       "    }\n",
       "\n",
       "    .dataframe tbody tr th {\n",
       "        vertical-align: top;\n",
       "    }\n",
       "</style>\n",
       "<table border=\"1\" class=\"dataframe\">\n",
       "  <thead>\n",
       "    <tr style=\"text-align: right;\">\n",
       "      <th></th>\n",
       "      <th>No1</th>\n",
       "      <th>No2</th>\n",
       "      <th>No3</th>\n",
       "      <th>No4</th>\n",
       "    </tr>\n",
       "  </thead>\n",
       "  <tbody>\n",
       "    <tr>\n",
       "      <th>2018-01-31</th>\n",
       "      <td>0.517811</td>\n",
       "      <td>-0.414104</td>\n",
       "      <td>0.916567</td>\n",
       "      <td>1.020332</td>\n",
       "    </tr>\n",
       "    <tr>\n",
       "      <th>2018-02-28</th>\n",
       "      <td>0.367782</td>\n",
       "      <td>-0.575227</td>\n",
       "      <td>0.932246</td>\n",
       "      <td>2.057159</td>\n",
       "    </tr>\n",
       "    <tr>\n",
       "      <th>2018-03-31</th>\n",
       "      <td>1.634815</td>\n",
       "      <td>-1.912036</td>\n",
       "      <td>0.049916</td>\n",
       "      <td>1.380846</td>\n",
       "    </tr>\n",
       "    <tr>\n",
       "      <th>2018-04-30</th>\n",
       "      <td>1.640800</td>\n",
       "      <td>-1.565810</td>\n",
       "      <td>-1.319864</td>\n",
       "      <td>2.435296</td>\n",
       "    </tr>\n",
       "    <tr>\n",
       "      <th>2018-05-31</th>\n",
       "      <td>1.596903</td>\n",
       "      <td>-1.509675</td>\n",
       "      <td>-3.185642</td>\n",
       "      <td>2.632924</td>\n",
       "    </tr>\n",
       "    <tr>\n",
       "      <th>2018-06-30</th>\n",
       "      <td>1.754419</td>\n",
       "      <td>-2.158934</td>\n",
       "      <td>-4.176187</td>\n",
       "      <td>2.615900</td>\n",
       "    </tr>\n",
       "    <tr>\n",
       "      <th>2018-07-31</th>\n",
       "      <td>2.275225</td>\n",
       "      <td>-2.113124</td>\n",
       "      <td>-4.395588</td>\n",
       "      <td>3.461210</td>\n",
       "    </tr>\n",
       "    <tr>\n",
       "      <th>2018-08-31</th>\n",
       "      <td>1.358232</td>\n",
       "      <td>-1.272562</td>\n",
       "      <td>-4.128987</td>\n",
       "      <td>3.072337</td>\n",
       "    </tr>\n",
       "    <tr>\n",
       "      <th>2018-09-30</th>\n",
       "      <td>-0.041713</td>\n",
       "      <td>-0.346243</td>\n",
       "      <td>-3.421684</td>\n",
       "      <td>2.894896</td>\n",
       "    </tr>\n",
       "  </tbody>\n",
       "</table>\n",
       "</div>"
      ],
      "text/plain": [
       "                 No1       No2       No3       No4\n",
       "2018-01-31  0.517811 -0.414104  0.916567  1.020332\n",
       "2018-02-28  0.367782 -0.575227  0.932246  2.057159\n",
       "2018-03-31  1.634815 -1.912036  0.049916  1.380846\n",
       "2018-04-30  1.640800 -1.565810 -1.319864  2.435296\n",
       "2018-05-31  1.596903 -1.509675 -3.185642  2.632924\n",
       "2018-06-30  1.754419 -2.158934 -4.176187  2.615900\n",
       "2018-07-31  2.275225 -2.113124 -4.395588  3.461210\n",
       "2018-08-31  1.358232 -1.272562 -4.128987  3.072337\n",
       "2018-09-30 -0.041713 -0.346243 -3.421684  2.894896"
      ]
     },
     "execution_count": 69,
     "metadata": {},
     "output_type": "execute_result"
    }
   ],
   "source": [
    "df.cumsum()"
   ]
  },
  {
   "cell_type": "code",
   "execution_count": 70,
   "metadata": {},
   "outputs": [
    {
     "data": {
      "text/html": [
       "<div>\n",
       "<style>\n",
       "    .dataframe thead tr:only-child th {\n",
       "        text-align: right;\n",
       "    }\n",
       "\n",
       "    .dataframe thead th {\n",
       "        text-align: left;\n",
       "    }\n",
       "\n",
       "    .dataframe tbody tr th {\n",
       "        vertical-align: top;\n",
       "    }\n",
       "</style>\n",
       "<table border=\"1\" class=\"dataframe\">\n",
       "  <thead>\n",
       "    <tr style=\"text-align: right;\">\n",
       "      <th></th>\n",
       "      <th>No1</th>\n",
       "      <th>No2</th>\n",
       "      <th>No3</th>\n",
       "      <th>No4</th>\n",
       "    </tr>\n",
       "  </thead>\n",
       "  <tbody>\n",
       "    <tr>\n",
       "      <th>count</th>\n",
       "      <td>9.000000</td>\n",
       "      <td>9.000000</td>\n",
       "      <td>9.000000</td>\n",
       "      <td>9.000000</td>\n",
       "    </tr>\n",
       "    <tr>\n",
       "      <th>mean</th>\n",
       "      <td>-0.004635</td>\n",
       "      <td>-0.038471</td>\n",
       "      <td>-0.380187</td>\n",
       "      <td>0.321655</td>\n",
       "    </tr>\n",
       "    <tr>\n",
       "      <th>std</th>\n",
       "      <td>0.790138</td>\n",
       "      <td>0.714357</td>\n",
       "      <td>0.953681</td>\n",
       "      <td>0.679227</td>\n",
       "    </tr>\n",
       "    <tr>\n",
       "      <th>min</th>\n",
       "      <td>-1.399945</td>\n",
       "      <td>-1.336809</td>\n",
       "      <td>-1.865778</td>\n",
       "      <td>-0.676312</td>\n",
       "    </tr>\n",
       "    <tr>\n",
       "      <th>25%</th>\n",
       "      <td>-0.150029</td>\n",
       "      <td>-0.414104</td>\n",
       "      <td>-0.990545</td>\n",
       "      <td>-0.177441</td>\n",
       "    </tr>\n",
       "    <tr>\n",
       "      <th>50%</th>\n",
       "      <td>0.005986</td>\n",
       "      <td>0.045810</td>\n",
       "      <td>-0.219400</td>\n",
       "      <td>0.197629</td>\n",
       "    </tr>\n",
       "    <tr>\n",
       "      <th>75%</th>\n",
       "      <td>0.517811</td>\n",
       "      <td>0.346226</td>\n",
       "      <td>0.266600</td>\n",
       "      <td>1.020332</td>\n",
       "    </tr>\n",
       "    <tr>\n",
       "      <th>max</th>\n",
       "      <td>1.267032</td>\n",
       "      <td>0.926318</td>\n",
       "      <td>0.916567</td>\n",
       "      <td>1.054449</td>\n",
       "    </tr>\n",
       "  </tbody>\n",
       "</table>\n",
       "</div>"
      ],
      "text/plain": [
       "            No1       No2       No3       No4\n",
       "count  9.000000  9.000000  9.000000  9.000000\n",
       "mean  -0.004635 -0.038471 -0.380187  0.321655\n",
       "std    0.790138  0.714357  0.953681  0.679227\n",
       "min   -1.399945 -1.336809 -1.865778 -0.676312\n",
       "25%   -0.150029 -0.414104 -0.990545 -0.177441\n",
       "50%    0.005986  0.045810 -0.219400  0.197629\n",
       "75%    0.517811  0.346226  0.266600  1.020332\n",
       "max    1.267032  0.926318  0.916567  1.054449"
      ]
     },
     "execution_count": 70,
     "metadata": {},
     "output_type": "execute_result"
    }
   ],
   "source": [
    "df.describe()#提供了一个数据集常用统计指标获取的函数"
   ]
  },
  {
   "cell_type": "code",
   "execution_count": 74,
   "metadata": {},
   "outputs": [
    {
     "name": "stderr",
     "output_type": "stream",
     "text": [
      "C:\\Users\\13673\\Anaconda3\\lib\\site-packages\\ipykernel_launcher.py:1: RuntimeWarning: invalid value encountered in sqrt\n",
      "  \"\"\"Entry point for launching an IPython kernel.\n"
     ]
    },
    {
     "data": {
      "text/html": [
       "<div>\n",
       "<style>\n",
       "    .dataframe thead tr:only-child th {\n",
       "        text-align: right;\n",
       "    }\n",
       "\n",
       "    .dataframe thead th {\n",
       "        text-align: left;\n",
       "    }\n",
       "\n",
       "    .dataframe tbody tr th {\n",
       "        vertical-align: top;\n",
       "    }\n",
       "</style>\n",
       "<table border=\"1\" class=\"dataframe\">\n",
       "  <thead>\n",
       "    <tr style=\"text-align: right;\">\n",
       "      <th></th>\n",
       "      <th>No1</th>\n",
       "      <th>No2</th>\n",
       "      <th>No3</th>\n",
       "      <th>No4</th>\n",
       "    </tr>\n",
       "  </thead>\n",
       "  <tbody>\n",
       "    <tr>\n",
       "      <th>2018-01-31</th>\n",
       "      <td>0.719591</td>\n",
       "      <td>NaN</td>\n",
       "      <td>0.957375</td>\n",
       "      <td>1.010115</td>\n",
       "    </tr>\n",
       "    <tr>\n",
       "      <th>2018-02-28</th>\n",
       "      <td>NaN</td>\n",
       "      <td>NaN</td>\n",
       "      <td>0.125219</td>\n",
       "      <td>1.018247</td>\n",
       "    </tr>\n",
       "    <tr>\n",
       "      <th>2018-03-31</th>\n",
       "      <td>1.125625</td>\n",
       "      <td>NaN</td>\n",
       "      <td>NaN</td>\n",
       "      <td>NaN</td>\n",
       "    </tr>\n",
       "    <tr>\n",
       "      <th>2018-04-30</th>\n",
       "      <td>0.077367</td>\n",
       "      <td>0.588410</td>\n",
       "      <td>NaN</td>\n",
       "      <td>1.026864</td>\n",
       "    </tr>\n",
       "    <tr>\n",
       "      <th>2018-05-31</th>\n",
       "      <td>NaN</td>\n",
       "      <td>0.236927</td>\n",
       "      <td>NaN</td>\n",
       "      <td>0.444554</td>\n",
       "    </tr>\n",
       "    <tr>\n",
       "      <th>2018-06-30</th>\n",
       "      <td>0.396882</td>\n",
       "      <td>NaN</td>\n",
       "      <td>NaN</td>\n",
       "      <td>NaN</td>\n",
       "    </tr>\n",
       "    <tr>\n",
       "      <th>2018-07-31</th>\n",
       "      <td>0.721669</td>\n",
       "      <td>0.214034</td>\n",
       "      <td>NaN</td>\n",
       "      <td>0.919407</td>\n",
       "    </tr>\n",
       "    <tr>\n",
       "      <th>2018-08-31</th>\n",
       "      <td>NaN</td>\n",
       "      <td>0.916822</td>\n",
       "      <td>0.516334</td>\n",
       "      <td>NaN</td>\n",
       "    </tr>\n",
       "    <tr>\n",
       "      <th>2018-09-30</th>\n",
       "      <td>NaN</td>\n",
       "      <td>0.962454</td>\n",
       "      <td>0.841013</td>\n",
       "      <td>NaN</td>\n",
       "    </tr>\n",
       "  </tbody>\n",
       "</table>\n",
       "</div>"
      ],
      "text/plain": [
       "                 No1       No2       No3       No4\n",
       "2018-01-31  0.719591       NaN  0.957375  1.010115\n",
       "2018-02-28       NaN       NaN  0.125219  1.018247\n",
       "2018-03-31  1.125625       NaN       NaN       NaN\n",
       "2018-04-30  0.077367  0.588410       NaN  1.026864\n",
       "2018-05-31       NaN  0.236927       NaN  0.444554\n",
       "2018-06-30  0.396882       NaN       NaN       NaN\n",
       "2018-07-31  0.721669  0.214034       NaN  0.919407\n",
       "2018-08-31       NaN  0.916822  0.516334       NaN\n",
       "2018-09-30       NaN  0.962454  0.841013       NaN"
      ]
     },
     "execution_count": 74,
     "metadata": {},
     "output_type": "execute_result"
    }
   ],
   "source": [
    "np.sqrt(df)\n",
    "#可以对DataFrame对象应用大多数的NumPy一般函数\n",
    "#Pandas具有一定的容错特性，在这个条件下，如果数学运算失败，它会将放置一个NaN值"
   ]
  },
  {
   "cell_type": "code",
   "execution_count": 75,
   "metadata": {},
   "outputs": [
    {
     "name": "stderr",
     "output_type": "stream",
     "text": [
      "C:\\Users\\13673\\Anaconda3\\lib\\site-packages\\ipykernel_launcher.py:1: RuntimeWarning: invalid value encountered in sqrt\n",
      "  \"\"\"Entry point for launching an IPython kernel.\n"
     ]
    },
    {
     "data": {
      "text/plain": [
       "No1    3.041135\n",
       "No2    2.918647\n",
       "No3    2.439940\n",
       "No4    4.419187\n",
       "dtype: float64"
      ]
     },
     "execution_count": 75,
     "metadata": {},
     "output_type": "execute_result"
    }
   ],
   "source": [
    "np.sqrt(df).sum()\n",
    "#处理这种不完全的数据集与完整数据集是一样的。通常，pandas会忽略掉缺失的错误数据而只针对可得数据进行处理。"
   ]
  },
  {
   "cell_type": "code",
   "execution_count": 76,
   "metadata": {},
   "outputs": [
    {
     "data": {
      "text/plain": [
       "<matplotlib.axes._subplots.AxesSubplot at 0x1a0c219ecc0>"
      ]
     },
     "execution_count": 76,
     "metadata": {},
     "output_type": "execute_result"
    },
    {
     "data": {
      "image/png": "[encoded data removed]",
      "text/plain": [
       "<matplotlib.figure.Figure at 0x1a0c219e518>"
      ]
     },
     "metadata": {},
     "output_type": "display_data"
    }
   ],
   "source": [
    "import matplotlib as mpl\n",
    "%matplotlib inline\n",
    "df.cumsum().plot(lw=2.0)#可以直接应用matplotlib的函数"
   ]
  },
  {
   "cell_type": "code",
   "execution_count": 77,
   "metadata": {},
   "outputs": [
    {
     "data": {
      "text/plain": [
       "pandas.core.frame.DataFrame"
      ]
     },
     "execution_count": 77,
     "metadata": {},
     "output_type": "execute_result"
    }
   ],
   "source": [
    "type(df)#dataframe类"
   ]
  },
  {
   "cell_type": "code",
   "execution_count": 78,
   "metadata": {},
   "outputs": [
    {
     "data": {
      "text/plain": [
       "pandas.core.series.Series"
      ]
     },
     "execution_count": 78,
     "metadata": {},
     "output_type": "execute_result"
    }
   ],
   "source": [
    "df['No1']\n",
    "type(df['No1'])#每个column是series类"
   ]
  },
  {
   "cell_type": "code",
   "execution_count": 79,
   "metadata": {},
   "outputs": [
    {
     "data": {
      "text/plain": [
       "Text(0,0.5,'value')"
      ]
     },
     "execution_count": 79,
     "metadata": {},
     "output_type": "execute_result"
    },
    {
     "data": {
      "image/png": "[encoded data removed]",
      "text/plain": [
       "<matplotlib.figure.Figure at 0x1a0c41d26d8>"
      ]
     },
     "metadata": {},
     "output_type": "display_data"
    }
   ],
   "source": [
    "import matplotlib.pyplot as plt\n",
    "df['No1'].cumsum().plot(style='r',lw=2.)\n",
    "plt.xlabel('date')\n",
    "plt.ylabel('value')"
   ]
  },
  {
   "attachments": {},
   "cell_type": "markdown",
   "metadata": {},
   "source": [
    "Pandas提供了强大而灵活的分组功能，这与SQL中的分组以及excel中的数据透视表类似。为了演示groupby功能，我们增加一列表示季度。"
   ]
  },
  {
   "cell_type": "code",
   "execution_count": 80,
   "metadata": {
    "collapsed": true
   },
   "outputs": [],
   "source": [
    "df['Quarter']=['Q1','Q1','Q1','Q2','Q2','Q2','Q3','Q3','Q3']"
   ]
  },
  {
   "cell_type": "code",
   "execution_count": 81,
   "metadata": {},
   "outputs": [
    {
     "data": {
      "text/html": [
       "<div>\n",
       "<style>\n",
       "    .dataframe thead tr:only-child th {\n",
       "        text-align: right;\n",
       "    }\n",
       "\n",
       "    .dataframe thead th {\n",
       "        text-align: left;\n",
       "    }\n",
       "\n",
       "    .dataframe tbody tr th {\n",
       "        vertical-align: top;\n",
       "    }\n",
       "</style>\n",
       "<table border=\"1\" class=\"dataframe\">\n",
       "  <thead>\n",
       "    <tr style=\"text-align: right;\">\n",
       "      <th></th>\n",
       "      <th>No1</th>\n",
       "      <th>No2</th>\n",
       "      <th>No3</th>\n",
       "      <th>No4</th>\n",
       "      <th>Quarter</th>\n",
       "    </tr>\n",
       "  </thead>\n",
       "  <tbody>\n",
       "    <tr>\n",
       "      <th>2018-01-31</th>\n",
       "      <td>0.517811</td>\n",
       "      <td>-0.414104</td>\n",
       "      <td>0.916567</td>\n",
       "      <td>1.020332</td>\n",
       "      <td>Q1</td>\n",
       "    </tr>\n",
       "    <tr>\n",
       "      <th>2018-02-28</th>\n",
       "      <td>-0.150029</td>\n",
       "      <td>-0.161123</td>\n",
       "      <td>0.015680</td>\n",
       "      <td>1.036827</td>\n",
       "      <td>Q1</td>\n",
       "    </tr>\n",
       "    <tr>\n",
       "      <th>2018-03-31</th>\n",
       "      <td>1.267032</td>\n",
       "      <td>-1.336809</td>\n",
       "      <td>-0.882330</td>\n",
       "      <td>-0.676312</td>\n",
       "      <td>Q1</td>\n",
       "    </tr>\n",
       "    <tr>\n",
       "      <th>2018-04-30</th>\n",
       "      <td>0.005986</td>\n",
       "      <td>0.346226</td>\n",
       "      <td>-1.369780</td>\n",
       "      <td>1.054449</td>\n",
       "      <td>Q2</td>\n",
       "    </tr>\n",
       "    <tr>\n",
       "      <th>2018-05-31</th>\n",
       "      <td>-0.043897</td>\n",
       "      <td>0.056135</td>\n",
       "      <td>-1.865778</td>\n",
       "      <td>0.197629</td>\n",
       "      <td>Q2</td>\n",
       "    </tr>\n",
       "    <tr>\n",
       "      <th>2018-06-30</th>\n",
       "      <td>0.157516</td>\n",
       "      <td>-0.649259</td>\n",
       "      <td>-0.990545</td>\n",
       "      <td>-0.017024</td>\n",
       "      <td>Q2</td>\n",
       "    </tr>\n",
       "    <tr>\n",
       "      <th>2018-07-31</th>\n",
       "      <td>0.520806</td>\n",
       "      <td>0.045810</td>\n",
       "      <td>-0.219400</td>\n",
       "      <td>0.845310</td>\n",
       "      <td>Q3</td>\n",
       "    </tr>\n",
       "    <tr>\n",
       "      <th>2018-08-31</th>\n",
       "      <td>-0.916993</td>\n",
       "      <td>0.840562</td>\n",
       "      <td>0.266600</td>\n",
       "      <td>-0.388873</td>\n",
       "      <td>Q3</td>\n",
       "    </tr>\n",
       "    <tr>\n",
       "      <th>2018-09-30</th>\n",
       "      <td>-1.399945</td>\n",
       "      <td>0.926318</td>\n",
       "      <td>0.707304</td>\n",
       "      <td>-0.177441</td>\n",
       "      <td>Q3</td>\n",
       "    </tr>\n",
       "  </tbody>\n",
       "</table>\n",
       "</div>"
      ],
      "text/plain": [
       "                 No1       No2       No3       No4 Quarter\n",
       "2018-01-31  0.517811 -0.414104  0.916567  1.020332      Q1\n",
       "2018-02-28 -0.150029 -0.161123  0.015680  1.036827      Q1\n",
       "2018-03-31  1.267032 -1.336809 -0.882330 -0.676312      Q1\n",
       "2018-04-30  0.005986  0.346226 -1.369780  1.054449      Q2\n",
       "2018-05-31 -0.043897  0.056135 -1.865778  0.197629      Q2\n",
       "2018-06-30  0.157516 -0.649259 -0.990545 -0.017024      Q2\n",
       "2018-07-31  0.520806  0.045810 -0.219400  0.845310      Q3\n",
       "2018-08-31 -0.916993  0.840562  0.266600 -0.388873      Q3\n",
       "2018-09-30 -1.399945  0.926318  0.707304 -0.177441      Q3"
      ]
     },
     "execution_count": 81,
     "metadata": {},
     "output_type": "execute_result"
    }
   ],
   "source": [
    "df"
   ]
  },
  {
   "cell_type": "code",
   "execution_count": 82,
   "metadata": {
    "collapsed": true
   },
   "outputs": [],
   "source": [
    "groups=df.groupby('Quarter')"
   ]
  },
  {
   "cell_type": "code",
   "execution_count": 83,
   "metadata": {},
   "outputs": [
    {
     "data": {
      "text/plain": [
       "<pandas.core.groupby.DataFrameGroupBy object at 0x000001A0C41E83C8>"
      ]
     },
     "execution_count": 83,
     "metadata": {},
     "output_type": "execute_result"
    }
   ],
   "source": [
    "groups"
   ]
  },
  {
   "cell_type": "code",
   "execution_count": 84,
   "metadata": {},
   "outputs": [
    {
     "data": {
      "text/html": [
       "<div>\n",
       "<style>\n",
       "    .dataframe thead tr:only-child th {\n",
       "        text-align: right;\n",
       "    }\n",
       "\n",
       "    .dataframe thead th {\n",
       "        text-align: left;\n",
       "    }\n",
       "\n",
       "    .dataframe tbody tr th {\n",
       "        vertical-align: top;\n",
       "    }\n",
       "</style>\n",
       "<table border=\"1\" class=\"dataframe\">\n",
       "  <thead>\n",
       "    <tr style=\"text-align: right;\">\n",
       "      <th></th>\n",
       "      <th>No1</th>\n",
       "      <th>No2</th>\n",
       "      <th>No3</th>\n",
       "      <th>No4</th>\n",
       "    </tr>\n",
       "    <tr>\n",
       "      <th>Quarter</th>\n",
       "      <th></th>\n",
       "      <th></th>\n",
       "      <th></th>\n",
       "      <th></th>\n",
       "    </tr>\n",
       "  </thead>\n",
       "  <tbody>\n",
       "    <tr>\n",
       "      <th>Q1</th>\n",
       "      <td>0.544938</td>\n",
       "      <td>-0.637345</td>\n",
       "      <td>0.016639</td>\n",
       "      <td>0.460282</td>\n",
       "    </tr>\n",
       "    <tr>\n",
       "      <th>Q2</th>\n",
       "      <td>0.039868</td>\n",
       "      <td>-0.082299</td>\n",
       "      <td>-1.408701</td>\n",
       "      <td>0.411685</td>\n",
       "    </tr>\n",
       "    <tr>\n",
       "      <th>Q3</th>\n",
       "      <td>-0.598711</td>\n",
       "      <td>0.604230</td>\n",
       "      <td>0.251501</td>\n",
       "      <td>0.092999</td>\n",
       "    </tr>\n",
       "  </tbody>\n",
       "</table>\n",
       "</div>"
      ],
      "text/plain": [
       "              No1       No2       No3       No4\n",
       "Quarter                                        \n",
       "Q1       0.544938 -0.637345  0.016639  0.460282\n",
       "Q2       0.039868 -0.082299 -1.408701  0.411685\n",
       "Q3      -0.598711  0.604230  0.251501  0.092999"
      ]
     },
     "execution_count": 84,
     "metadata": {},
     "output_type": "execute_result"
    }
   ],
   "source": [
    "groups.mean()"
   ]
  },
  {
   "cell_type": "code",
   "execution_count": 85,
   "metadata": {},
   "outputs": [
    {
     "data": {
      "text/html": [
       "<div>\n",
       "<style>\n",
       "    .dataframe thead tr:only-child th {\n",
       "        text-align: right;\n",
       "    }\n",
       "\n",
       "    .dataframe thead th {\n",
       "        text-align: left;\n",
       "    }\n",
       "\n",
       "    .dataframe tbody tr th {\n",
       "        vertical-align: top;\n",
       "    }\n",
       "</style>\n",
       "<table border=\"1\" class=\"dataframe\">\n",
       "  <thead>\n",
       "    <tr style=\"text-align: right;\">\n",
       "      <th></th>\n",
       "      <th>No1</th>\n",
       "      <th>No2</th>\n",
       "      <th>No3</th>\n",
       "      <th>No4</th>\n",
       "    </tr>\n",
       "    <tr>\n",
       "      <th>Quarter</th>\n",
       "      <th></th>\n",
       "      <th></th>\n",
       "      <th></th>\n",
       "      <th></th>\n",
       "    </tr>\n",
       "  </thead>\n",
       "  <tbody>\n",
       "    <tr>\n",
       "      <th>Q1</th>\n",
       "      <td>1.267032</td>\n",
       "      <td>-0.161123</td>\n",
       "      <td>0.916567</td>\n",
       "      <td>1.036827</td>\n",
       "    </tr>\n",
       "    <tr>\n",
       "      <th>Q2</th>\n",
       "      <td>0.157516</td>\n",
       "      <td>0.346226</td>\n",
       "      <td>-0.990545</td>\n",
       "      <td>1.054449</td>\n",
       "    </tr>\n",
       "    <tr>\n",
       "      <th>Q3</th>\n",
       "      <td>0.520806</td>\n",
       "      <td>0.926318</td>\n",
       "      <td>0.707304</td>\n",
       "      <td>0.845310</td>\n",
       "    </tr>\n",
       "  </tbody>\n",
       "</table>\n",
       "</div>"
      ],
      "text/plain": [
       "              No1       No2       No3       No4\n",
       "Quarter                                        \n",
       "Q1       1.267032 -0.161123  0.916567  1.036827\n",
       "Q2       0.157516  0.346226 -0.990545  1.054449\n",
       "Q3       0.520806  0.926318  0.707304  0.845310"
      ]
     },
     "execution_count": 85,
     "metadata": {},
     "output_type": "execute_result"
    }
   ],
   "source": [
    "groups.max()"
   ]
  },
  {
   "cell_type": "code",
   "execution_count": 86,
   "metadata": {},
   "outputs": [
    {
     "data": {
      "text/plain": [
       "Quarter\n",
       "Q1    3\n",
       "Q2    3\n",
       "Q3    3\n",
       "dtype: int64"
      ]
     },
     "execution_count": 86,
     "metadata": {},
     "output_type": "execute_result"
    }
   ],
   "source": [
    "groups.size()"
   ]
  },
  {
   "attachments": {},
   "cell_type": "markdown",
   "metadata": {},
   "source": [
    "分组也可以针对多列进行，为了演示这一点，我们增加另外一列，代表着这个月是大月还是小月。增加这一列可以共同用于分组。"
   ]
  },
  {
   "cell_type": "code",
   "execution_count": 87,
   "metadata": {},
   "outputs": [
    {
     "data": {
      "text/html": [
       "<div>\n",
       "<style>\n",
       "    .dataframe thead tr:only-child th {\n",
       "        text-align: right;\n",
       "    }\n",
       "\n",
       "    .dataframe thead th {\n",
       "        text-align: left;\n",
       "    }\n",
       "\n",
       "    .dataframe tbody tr th {\n",
       "        vertical-align: top;\n",
       "    }\n",
       "</style>\n",
       "<table border=\"1\" class=\"dataframe\">\n",
       "  <thead>\n",
       "    <tr style=\"text-align: right;\">\n",
       "      <th></th>\n",
       "      <th>No1</th>\n",
       "      <th>No2</th>\n",
       "      <th>No3</th>\n",
       "      <th>No4</th>\n",
       "      <th>Quarter</th>\n",
       "      <th>Odd_Even</th>\n",
       "    </tr>\n",
       "  </thead>\n",
       "  <tbody>\n",
       "    <tr>\n",
       "      <th>2018-01-31</th>\n",
       "      <td>0.517811</td>\n",
       "      <td>-0.414104</td>\n",
       "      <td>0.916567</td>\n",
       "      <td>1.020332</td>\n",
       "      <td>Q1</td>\n",
       "      <td>Odd</td>\n",
       "    </tr>\n",
       "    <tr>\n",
       "      <th>2018-02-28</th>\n",
       "      <td>-0.150029</td>\n",
       "      <td>-0.161123</td>\n",
       "      <td>0.015680</td>\n",
       "      <td>1.036827</td>\n",
       "      <td>Q1</td>\n",
       "      <td>Even</td>\n",
       "    </tr>\n",
       "    <tr>\n",
       "      <th>2018-03-31</th>\n",
       "      <td>1.267032</td>\n",
       "      <td>-1.336809</td>\n",
       "      <td>-0.882330</td>\n",
       "      <td>-0.676312</td>\n",
       "      <td>Q1</td>\n",
       "      <td>Odd</td>\n",
       "    </tr>\n",
       "    <tr>\n",
       "      <th>2018-04-30</th>\n",
       "      <td>0.005986</td>\n",
       "      <td>0.346226</td>\n",
       "      <td>-1.369780</td>\n",
       "      <td>1.054449</td>\n",
       "      <td>Q2</td>\n",
       "      <td>Even</td>\n",
       "    </tr>\n",
       "    <tr>\n",
       "      <th>2018-05-31</th>\n",
       "      <td>-0.043897</td>\n",
       "      <td>0.056135</td>\n",
       "      <td>-1.865778</td>\n",
       "      <td>0.197629</td>\n",
       "      <td>Q2</td>\n",
       "      <td>Odd</td>\n",
       "    </tr>\n",
       "    <tr>\n",
       "      <th>2018-06-30</th>\n",
       "      <td>0.157516</td>\n",
       "      <td>-0.649259</td>\n",
       "      <td>-0.990545</td>\n",
       "      <td>-0.017024</td>\n",
       "      <td>Q2</td>\n",
       "      <td>Even</td>\n",
       "    </tr>\n",
       "    <tr>\n",
       "      <th>2018-07-31</th>\n",
       "      <td>0.520806</td>\n",
       "      <td>0.045810</td>\n",
       "      <td>-0.219400</td>\n",
       "      <td>0.845310</td>\n",
       "      <td>Q3</td>\n",
       "      <td>Odd</td>\n",
       "    </tr>\n",
       "    <tr>\n",
       "      <th>2018-08-31</th>\n",
       "      <td>-0.916993</td>\n",
       "      <td>0.840562</td>\n",
       "      <td>0.266600</td>\n",
       "      <td>-0.388873</td>\n",
       "      <td>Q3</td>\n",
       "      <td>Odd</td>\n",
       "    </tr>\n",
       "    <tr>\n",
       "      <th>2018-09-30</th>\n",
       "      <td>-1.399945</td>\n",
       "      <td>0.926318</td>\n",
       "      <td>0.707304</td>\n",
       "      <td>-0.177441</td>\n",
       "      <td>Q3</td>\n",
       "      <td>Even</td>\n",
       "    </tr>\n",
       "  </tbody>\n",
       "</table>\n",
       "</div>"
      ],
      "text/plain": [
       "                 No1       No2       No3       No4 Quarter Odd_Even\n",
       "2018-01-31  0.517811 -0.414104  0.916567  1.020332      Q1      Odd\n",
       "2018-02-28 -0.150029 -0.161123  0.015680  1.036827      Q1     Even\n",
       "2018-03-31  1.267032 -1.336809 -0.882330 -0.676312      Q1      Odd\n",
       "2018-04-30  0.005986  0.346226 -1.369780  1.054449      Q2     Even\n",
       "2018-05-31 -0.043897  0.056135 -1.865778  0.197629      Q2      Odd\n",
       "2018-06-30  0.157516 -0.649259 -0.990545 -0.017024      Q2     Even\n",
       "2018-07-31  0.520806  0.045810 -0.219400  0.845310      Q3      Odd\n",
       "2018-08-31 -0.916993  0.840562  0.266600 -0.388873      Q3      Odd\n",
       "2018-09-30 -1.399945  0.926318  0.707304 -0.177441      Q3     Even"
      ]
     },
     "execution_count": 87,
     "metadata": {},
     "output_type": "execute_result"
    }
   ],
   "source": [
    "df['Odd_Even']=['Odd','Even','Odd','Even','Odd','Even','Odd','Odd','Even']\n",
    "df"
   ]
  },
  {
   "cell_type": "code",
   "execution_count": 88,
   "metadata": {
    "collapsed": true
   },
   "outputs": [],
   "source": [
    "groups=df.groupby(['Quarter','Odd_Even'])"
   ]
  },
  {
   "cell_type": "code",
   "execution_count": 89,
   "metadata": {},
   "outputs": [
    {
     "data": {
      "text/plain": [
       "Quarter  Odd_Even\n",
       "Q1       Even        1\n",
       "         Odd         2\n",
       "Q2       Even        2\n",
       "         Odd         1\n",
       "Q3       Even        1\n",
       "         Odd         2\n",
       "dtype: int64"
      ]
     },
     "execution_count": 89,
     "metadata": {},
     "output_type": "execute_result"
    }
   ],
   "source": [
    "groups.size()"
   ]
  },
  {
   "cell_type": "code",
   "execution_count": 90,
   "metadata": {},
   "outputs": [
    {
     "data": {
      "text/html": [
       "<div>\n",
       "<style>\n",
       "    .dataframe thead tr:only-child th {\n",
       "        text-align: right;\n",
       "    }\n",
       "\n",
       "    .dataframe thead th {\n",
       "        text-align: left;\n",
       "    }\n",
       "\n",
       "    .dataframe tbody tr th {\n",
       "        vertical-align: top;\n",
       "    }\n",
       "</style>\n",
       "<table border=\"1\" class=\"dataframe\">\n",
       "  <thead>\n",
       "    <tr style=\"text-align: right;\">\n",
       "      <th></th>\n",
       "      <th></th>\n",
       "      <th>No1</th>\n",
       "      <th>No2</th>\n",
       "      <th>No3</th>\n",
       "      <th>No4</th>\n",
       "    </tr>\n",
       "    <tr>\n",
       "      <th>Quarter</th>\n",
       "      <th>Odd_Even</th>\n",
       "      <th></th>\n",
       "      <th></th>\n",
       "      <th></th>\n",
       "      <th></th>\n",
       "    </tr>\n",
       "  </thead>\n",
       "  <tbody>\n",
       "    <tr>\n",
       "      <th rowspan=\"2\" valign=\"top\">Q1</th>\n",
       "      <th>Even</th>\n",
       "      <td>-0.150029</td>\n",
       "      <td>-0.161123</td>\n",
       "      <td>0.015680</td>\n",
       "      <td>1.036827</td>\n",
       "    </tr>\n",
       "    <tr>\n",
       "      <th>Odd</th>\n",
       "      <td>0.892422</td>\n",
       "      <td>-0.875456</td>\n",
       "      <td>0.017118</td>\n",
       "      <td>0.172010</td>\n",
       "    </tr>\n",
       "    <tr>\n",
       "      <th rowspan=\"2\" valign=\"top\">Q2</th>\n",
       "      <th>Even</th>\n",
       "      <td>0.081751</td>\n",
       "      <td>-0.151517</td>\n",
       "      <td>-1.180163</td>\n",
       "      <td>0.518713</td>\n",
       "    </tr>\n",
       "    <tr>\n",
       "      <th>Odd</th>\n",
       "      <td>-0.043897</td>\n",
       "      <td>0.056135</td>\n",
       "      <td>-1.865778</td>\n",
       "      <td>0.197629</td>\n",
       "    </tr>\n",
       "    <tr>\n",
       "      <th rowspan=\"2\" valign=\"top\">Q3</th>\n",
       "      <th>Even</th>\n",
       "      <td>-1.399945</td>\n",
       "      <td>0.926318</td>\n",
       "      <td>0.707304</td>\n",
       "      <td>-0.177441</td>\n",
       "    </tr>\n",
       "    <tr>\n",
       "      <th>Odd</th>\n",
       "      <td>-0.198094</td>\n",
       "      <td>0.443186</td>\n",
       "      <td>0.023600</td>\n",
       "      <td>0.228218</td>\n",
       "    </tr>\n",
       "  </tbody>\n",
       "</table>\n",
       "</div>"
      ],
      "text/plain": [
       "                       No1       No2       No3       No4\n",
       "Quarter Odd_Even                                        \n",
       "Q1      Even     -0.150029 -0.161123  0.015680  1.036827\n",
       "        Odd       0.892422 -0.875456  0.017118  0.172010\n",
       "Q2      Even      0.081751 -0.151517 -1.180163  0.518713\n",
       "        Odd      -0.043897  0.056135 -1.865778  0.197629\n",
       "Q3      Even     -1.399945  0.926318  0.707304 -0.177441\n",
       "        Odd      -0.198094  0.443186  0.023600  0.228218"
      ]
     },
     "execution_count": 90,
     "metadata": {},
     "output_type": "execute_result"
    }
   ],
   "source": [
    "groups.mean()"
   ]
  },
  {
   "attachments": {},
   "cell_type": "markdown",
   "metadata": {},
   "source": [
    "pandas允许我们很方便的从网络上获取数据，例如从Yahoo Finance，并且用多种方式来分析这样的数据。"
   ]
  },
  {
   "attachments": {},
   "cell_type": "markdown",
   "metadata": {},
   "source": [
    "我们将使用pandas的内置函数DataReader来从Yahoo Finance获取金融数据，分析数据并且生成数据图表。\n",
    "所需要的函数需要引入pandas的一个子库。目前，pandas支持下列数据源：\n",
    "* Yahoo finance\n",
    "* Google finance\n",
    "* St.Louis FED\n",
    "* Kenneth French’s data libarary\n",
    "* World Bank"
   ]
  },
  {
   "cell_type": "code",
   "execution_count": 92,
   "metadata": {},
   "outputs": [],
   "source": [
    "from pandas_datareader import data as web"
   ]
  },
  {
   "cell_type": "code",
   "execution_count": 93,
   "metadata": {},
   "outputs": [
    {
     "name": "stdout",
     "output_type": "stream",
     "text": [
      "<class 'pandas.core.frame.DataFrame'>\n",
      "DatetimeIndex: 4571 entries, 2000-01-03 to 2017-12-29\n",
      "Data columns (total 6 columns):\n",
      "High         4571 non-null float64\n",
      "Low          4571 non-null float64\n",
      "Open         4571 non-null float64\n",
      "Close        4571 non-null float64\n",
      "Volume       4571 non-null float64\n",
      "Adj Close    4571 non-null float64\n",
      "dtypes: float64(6)\n",
      "memory usage: 250.0 KB\n"
     ]
    }
   ],
   "source": [
    "DAX=web.DataReader(name='^GDAXI',data_source='yahoo',start='2000-1-1',end='2018-1-1')\n",
    "DAX.info()\n",
    "#德国的DAX指数"
   ]
  },
  {
   "cell_type": "code",
   "execution_count": 94,
   "metadata": {},
   "outputs": [
    {
     "data": {
      "text/html": [
       "<div>\n",
       "<style>\n",
       "    .dataframe thead tr:only-child th {\n",
       "        text-align: right;\n",
       "    }\n",
       "\n",
       "    .dataframe thead th {\n",
       "        text-align: left;\n",
       "    }\n",
       "\n",
       "    .dataframe tbody tr th {\n",
       "        vertical-align: top;\n",
       "    }\n",
       "</style>\n",
       "<table border=\"1\" class=\"dataframe\">\n",
       "  <thead>\n",
       "    <tr style=\"text-align: right;\">\n",
       "      <th></th>\n",
       "      <th>High</th>\n",
       "      <th>Low</th>\n",
       "      <th>Open</th>\n",
       "      <th>Close</th>\n",
       "      <th>Volume</th>\n",
       "      <th>Adj Close</th>\n",
       "    </tr>\n",
       "    <tr>\n",
       "      <th>Date</th>\n",
       "      <th></th>\n",
       "      <th></th>\n",
       "      <th></th>\n",
       "      <th></th>\n",
       "      <th></th>\n",
       "      <th></th>\n",
       "    </tr>\n",
       "  </thead>\n",
       "  <tbody>\n",
       "    <tr>\n",
       "      <th>2017-12-21</th>\n",
       "      <td>13137.709961</td>\n",
       "      <td>13013.629883</td>\n",
       "      <td>13065.790039</td>\n",
       "      <td>13109.740234</td>\n",
       "      <td>70360200.0</td>\n",
       "      <td>13109.740234</td>\n",
       "    </tr>\n",
       "    <tr>\n",
       "      <th>2017-12-22</th>\n",
       "      <td>13108.559570</td>\n",
       "      <td>13059.870117</td>\n",
       "      <td>13076.759766</td>\n",
       "      <td>13072.790039</td>\n",
       "      <td>52876700.0</td>\n",
       "      <td>13072.790039</td>\n",
       "    </tr>\n",
       "    <tr>\n",
       "      <th>2017-12-27</th>\n",
       "      <td>13128.740234</td>\n",
       "      <td>13020.429688</td>\n",
       "      <td>13070.190430</td>\n",
       "      <td>13070.019531</td>\n",
       "      <td>44677000.0</td>\n",
       "      <td>13070.019531</td>\n",
       "    </tr>\n",
       "    <tr>\n",
       "      <th>2017-12-28</th>\n",
       "      <td>13069.400391</td>\n",
       "      <td>12965.280273</td>\n",
       "      <td>13065.459961</td>\n",
       "      <td>12979.940430</td>\n",
       "      <td>43152100.0</td>\n",
       "      <td>12979.940430</td>\n",
       "    </tr>\n",
       "    <tr>\n",
       "      <th>2017-12-29</th>\n",
       "      <td>12980.740234</td>\n",
       "      <td>12911.730469</td>\n",
       "      <td>12980.089844</td>\n",
       "      <td>12917.639648</td>\n",
       "      <td>42169200.0</td>\n",
       "      <td>12917.639648</td>\n",
       "    </tr>\n",
       "  </tbody>\n",
       "</table>\n",
       "</div>"
      ],
      "text/plain": [
       "                    High           Low          Open         Close  \\\n",
       "Date                                                                 \n",
       "2017-12-21  13137.709961  13013.629883  13065.790039  13109.740234   \n",
       "2017-12-22  13108.559570  13059.870117  13076.759766  13072.790039   \n",
       "2017-12-27  13128.740234  13020.429688  13070.190430  13070.019531   \n",
       "2017-12-28  13069.400391  12965.280273  13065.459961  12979.940430   \n",
       "2017-12-29  12980.740234  12911.730469  12980.089844  12917.639648   \n",
       "\n",
       "                Volume     Adj Close  \n",
       "Date                                  \n",
       "2017-12-21  70360200.0  13109.740234  \n",
       "2017-12-22  52876700.0  13072.790039  \n",
       "2017-12-27  44677000.0  13070.019531  \n",
       "2017-12-28  43152100.0  12979.940430  \n",
       "2017-12-29  42169200.0  12917.639648  "
      ]
     },
     "execution_count": 94,
     "metadata": {},
     "output_type": "execute_result"
    }
   ],
   "source": [
    "DAX.tail()#tail()方法可以给我们展示数据集的最后五列"
   ]
  },
  {
   "cell_type": "code",
   "execution_count": 95,
   "metadata": {},
   "outputs": [
    {
     "data": {
      "text/plain": [
       "<matplotlib.axes._subplots.AxesSubplot at 0x1a0ba104358>"
      ]
     },
     "execution_count": 95,
     "metadata": {},
     "output_type": "execute_result"
    },
    {
     "data": {
      "image/png": "[encoded data removed]",
      "text/plain": [
       "<matplotlib.figure.Figure at 0x1a0c43fb240>"
      ]
     },
     "metadata": {},
     "output_type": "display_data"
    }
   ],
   "source": [
    "DAX['Close'].plot(figsize=(8,5))"
   ]
  },
  {
   "cell_type": "code",
   "execution_count": 114,
   "metadata": {},
   "outputs": [
    {
     "name": "stdout",
     "output_type": "stream",
     "text": [
      "Wall time: 0 ns\n"
     ]
    }
   ],
   "source": [
    "#下面来计算对数收益率，分别使用循环的方式和向量化的方式，比较效率\n",
    "#循环\n",
    "%time DAX['Ret_loop']=0.0\n",
    "for i in range(1,len(DAX)):\n",
    "    DAX['Ret_loop'][i]=np.log(DAX['Close'][i]/DAX['Close'][i-1])"
   ]
  },
  {
   "cell_type": "code",
   "execution_count": 106,
   "metadata": {},
   "outputs": [
    {
     "data": {
      "text/html": [
       "<div>\n",
       "<style>\n",
       "    .dataframe thead tr:only-child th {\n",
       "        text-align: right;\n",
       "    }\n",
       "\n",
       "    .dataframe thead th {\n",
       "        text-align: left;\n",
       "    }\n",
       "\n",
       "    .dataframe tbody tr th {\n",
       "        vertical-align: top;\n",
       "    }\n",
       "</style>\n",
       "<table border=\"1\" class=\"dataframe\">\n",
       "  <thead>\n",
       "    <tr style=\"text-align: right;\">\n",
       "      <th></th>\n",
       "      <th>Close</th>\n",
       "      <th>Ret_loop</th>\n",
       "    </tr>\n",
       "    <tr>\n",
       "      <th>Date</th>\n",
       "      <th></th>\n",
       "      <th></th>\n",
       "    </tr>\n",
       "  </thead>\n",
       "  <tbody>\n",
       "    <tr>\n",
       "      <th>2017-12-21</th>\n",
       "      <td>13109.740234</td>\n",
       "      <td>0.003099</td>\n",
       "    </tr>\n",
       "    <tr>\n",
       "      <th>2017-12-22</th>\n",
       "      <td>13072.790039</td>\n",
       "      <td>-0.002823</td>\n",
       "    </tr>\n",
       "    <tr>\n",
       "      <th>2017-12-27</th>\n",
       "      <td>13070.019531</td>\n",
       "      <td>-0.000212</td>\n",
       "    </tr>\n",
       "    <tr>\n",
       "      <th>2017-12-28</th>\n",
       "      <td>12979.940430</td>\n",
       "      <td>-0.006916</td>\n",
       "    </tr>\n",
       "    <tr>\n",
       "      <th>2017-12-29</th>\n",
       "      <td>12917.639648</td>\n",
       "      <td>-0.004811</td>\n",
       "    </tr>\n",
       "  </tbody>\n",
       "</table>\n",
       "</div>"
      ],
      "text/plain": [
       "                   Close  Ret_loop\n",
       "Date                              \n",
       "2017-12-21  13109.740234  0.003099\n",
       "2017-12-22  13072.790039 -0.002823\n",
       "2017-12-27  13070.019531 -0.000212\n",
       "2017-12-28  12979.940430 -0.006916\n",
       "2017-12-29  12917.639648 -0.004811"
      ]
     },
     "execution_count": 106,
     "metadata": {},
     "output_type": "execute_result"
    }
   ],
   "source": [
    "DAX[['Close','Ret_loop']].tail()"
   ]
  },
  {
   "cell_type": "code",
   "execution_count": 108,
   "metadata": {},
   "outputs": [
    {
     "name": "stdout",
     "output_type": "stream",
     "text": [
      "Wall time: 997 µs\n"
     ]
    }
   ],
   "source": [
    "#向量化，使用shift\n",
    "%time DAX['return']=np.log(DAX['Close']/DAX['Close'].shift(1))#shift(1)向前"
   ]
  },
  {
   "cell_type": "code",
   "execution_count": 115,
   "metadata": {
    "collapsed": true
   },
   "outputs": [],
   "source": [
    "del DAX['Ret_loop']#delete一列，因为loop与return是相同的"
   ]
  },
  {
   "cell_type": "code",
   "execution_count": 116,
   "metadata": {},
   "outputs": [
    {
     "data": {
      "text/plain": [
       "array([<matplotlib.axes._subplots.AxesSubplot object at 0x000001A0C5B17D30>,\n",
       "       <matplotlib.axes._subplots.AxesSubplot object at 0x000001A0C5D0C2B0>],\n",
       "      dtype=object)"
      ]
     },
     "execution_count": 116,
     "metadata": {},
     "output_type": "execute_result"
    },
    {
     "data": {
      "image/png": "[encoded data removed]",
      "text/plain": [
       "<matplotlib.figure.Figure at 0x1a0c43db940>"
      ]
     },
     "metadata": {},
     "output_type": "display_data"
    }
   ],
   "source": [
    "DAX[['Close','return']].plot(subplots=True,style='b',figsize=(8,5))"
   ]
  },
  {
   "attachments": {},
   "cell_type": "markdown",
   "metadata": {},
   "source": [
    "图形中显示了股票收益的两个事实:\n",
    "* 波动聚类：波动率对时间不是常数，有较高波动率（较高的正收益或负收益）和较低波动率的时期。\n",
    "* 杠杆效应：波动率和股票市场收益是负相关的，当市场下降的时候波动率上升，反之亦然。"
   ]
  },
  {
   "cell_type": "code",
   "execution_count": 118,
   "metadata": {},
   "outputs": [],
   "source": [
    "#技术分析的股票交易员通常关心移动平均，或称为趋势，\n",
    "#移动平均可以使用pandas的rolling_mean函数很容易得到\n",
    "#还存在其他的rolling函数，包括rolling_max，rolling_min和rolling_corr\n",
    "#DAX['42d']=pd.rolling_mean(DAX['Close'],window=42)\n",
    "#DAX['252d']=pd.rolling_mean(DAX['Close'],window=252)\n",
    "#pd.rolling_mean is deprecated for Series and will be removed in a future version, replace with\n",
    "#Series.rolling(window=252,center=False).mean()\n",
    "DAX['42d']=DAX['Close'].rolling(window=42,center=False).mean()\n",
    "DAX['252d']=DAX['Close'].rolling(window=252,center=False).mean()"
   ]
  },
  {
   "cell_type": "code",
   "execution_count": 119,
   "metadata": {},
   "outputs": [
    {
     "data": {
      "text/html": [
       "<div>\n",
       "<style>\n",
       "    .dataframe thead tr:only-child th {\n",
       "        text-align: right;\n",
       "    }\n",
       "\n",
       "    .dataframe thead th {\n",
       "        text-align: left;\n",
       "    }\n",
       "\n",
       "    .dataframe tbody tr th {\n",
       "        vertical-align: top;\n",
       "    }\n",
       "</style>\n",
       "<table border=\"1\" class=\"dataframe\">\n",
       "  <thead>\n",
       "    <tr style=\"text-align: right;\">\n",
       "      <th></th>\n",
       "      <th>Close</th>\n",
       "      <th>42d</th>\n",
       "      <th>252d</th>\n",
       "    </tr>\n",
       "    <tr>\n",
       "      <th>Date</th>\n",
       "      <th></th>\n",
       "      <th></th>\n",
       "      <th></th>\n",
       "    </tr>\n",
       "  </thead>\n",
       "  <tbody>\n",
       "    <tr>\n",
       "      <th>2017-12-21</th>\n",
       "      <td>13109.740234</td>\n",
       "      <td>13131.689802</td>\n",
       "      <td>12410.144950</td>\n",
       "    </tr>\n",
       "    <tr>\n",
       "      <th>2017-12-22</th>\n",
       "      <td>13072.790039</td>\n",
       "      <td>13133.108840</td>\n",
       "      <td>12416.496338</td>\n",
       "    </tr>\n",
       "    <tr>\n",
       "      <th>2017-12-27</th>\n",
       "      <td>13070.019531</td>\n",
       "      <td>13135.885254</td>\n",
       "      <td>12422.825819</td>\n",
       "    </tr>\n",
       "    <tr>\n",
       "      <th>2017-12-28</th>\n",
       "      <td>12979.940430</td>\n",
       "      <td>13132.234305</td>\n",
       "      <td>12428.892846</td>\n",
       "    </tr>\n",
       "    <tr>\n",
       "      <th>2017-12-29</th>\n",
       "      <td>12917.639648</td>\n",
       "      <td>13125.093820</td>\n",
       "      <td>12434.593560</td>\n",
       "    </tr>\n",
       "  </tbody>\n",
       "</table>\n",
       "</div>"
      ],
      "text/plain": [
       "                   Close           42d          252d\n",
       "Date                                                \n",
       "2017-12-21  13109.740234  13131.689802  12410.144950\n",
       "2017-12-22  13072.790039  13133.108840  12416.496338\n",
       "2017-12-27  13070.019531  13135.885254  12422.825819\n",
       "2017-12-28  12979.940430  13132.234305  12428.892846\n",
       "2017-12-29  12917.639648  13125.093820  12434.593560"
      ]
     },
     "execution_count": 119,
     "metadata": {},
     "output_type": "execute_result"
    }
   ],
   "source": [
    "DAX[['Close','42d','252d']].tail()"
   ]
  },
  {
   "cell_type": "code",
   "execution_count": 120,
   "metadata": {},
   "outputs": [
    {
     "data": {
      "text/plain": [
       "<matplotlib.axes._subplots.AxesSubplot at 0x1a0c5bff048>"
      ]
     },
     "execution_count": 120,
     "metadata": {},
     "output_type": "execute_result"
    },
    {
     "data": {
      "image/png": "[encoded data removed]",
      "text/plain": [
       "<matplotlib.figure.Figure at 0x1a0c5c9aac8>"
      ]
     },
     "metadata": {},
     "output_type": "display_data"
    }
   ],
   "source": [
    "DAX[['Close','42d','252d']].plot(figsize=(8,5))"
   ]
  },
  {
   "attachments": {},
   "cell_type": "markdown",
   "metadata": {},
   "source": [
    "期权投资者关心平均对数收益率的历史标准差，也就是移动平均历史波动率。"
   ]
  },
  {
   "cell_type": "code",
   "execution_count": 121,
   "metadata": {
    "collapsed": true
   },
   "outputs": [],
   "source": [
    "import math"
   ]
  },
  {
   "cell_type": "code",
   "execution_count": 123,
   "metadata": {},
   "outputs": [],
   "source": [
    "DAX['MOV_vol']=DAX['return'].rolling(window=252,center=False).std()*math.sqrt(252)#rolling_std算的是日度的标准差，要换算成年度的标准差"
   ]
  },
  {
   "cell_type": "code",
   "execution_count": 124,
   "metadata": {},
   "outputs": [
    {
     "data": {
      "text/plain": [
       "array([<matplotlib.axes._subplots.AxesSubplot object at 0x000001A0C5C43588>,\n",
       "       <matplotlib.axes._subplots.AxesSubplot object at 0x000001A0C5E0F080>,\n",
       "       <matplotlib.axes._subplots.AxesSubplot object at 0x000001A0C5E3AEF0>],\n",
       "      dtype=object)"
      ]
     },
     "execution_count": 124,
     "metadata": {},
     "output_type": "execute_result"
    },
    {
     "data": {
      "image/png": "[encoded data removed]",
      "text/plain": [
       "<matplotlib.figure.Figure at 0x1a0c5cabbe0>"
      ]
     },
     "metadata": {},
     "output_type": "display_data"
    }
   ],
   "source": [
    "DAX[['Close','MOV_vol','return']].plot(subplots=True,style='b',figsize=(8,5))"
   ]
  },
  {
   "cell_type": "markdown",
   "metadata": {},
   "source": [
    "收盘价格与波动率体现出明显的杠杆效应。"
   ]
  },
  {
   "attachments": {},
   "cell_type": "markdown",
   "metadata": {},
   "source": [
    "基于对金融数据图形的观察，我们看到波动率与股价之间存在着明显的波动效应，为了在统计上证明这一点，我们选择两个不同的数据集，并用线性回归的方式证明这一点:\n",
    "* EURO STOXX 50：EURO STOXX 50指数的历史日度收盘价格，这个指数包括的是欧洲蓝筹股票。\n",
    "* VSTOXX：VSTOXX波动率指数的历史日度收盘价格，计算的基础是EURO STOXX 50指数的隐含波动率。\n",
    "* 需要注意的是我们现在使用了隐含波动率，它相关于对未来波动率运动的预期，而前面的DAX分析使用的是历史波动率"
   ]
  },
  {
   "cell_type": "code",
   "execution_count": 130,
   "metadata": {},
   "outputs": [
    {
     "data": {
      "text/plain": [
       "('./data/vs.txt', <http.client.HTTPMessage at 0x1a0c7379668>)"
      ]
     },
     "execution_count": 130,
     "metadata": {},
     "output_type": "execute_result"
    }
   ],
   "source": [
    "es_url='http://www.stoxx.com/download/historical_values/hbrbcpe.txt'#从网络上获取数据存在data文件夹中\n",
    "vs_url='http://www.stoxx.com/download/historical_values/h_vstoxx.txt'\n",
    "urllib.request.urlretrieve(es_url,'./data/es.txt')\n",
    "urllib.request.urlretrieve(vs_url,'./data/vs.txt')"
   ]
  },
  {
   "attachments": {},
   "cell_type": "markdown",
   "metadata": {},
   "source": [
    "直接使用pandas来读入EURO STOXX 50数据并不好，我们应当事先做一些数据清洗的工具以使我们导入一个更好的数据结构：\n",
    "* 文件头部有一些信息是我们不希望导入的。\n",
    "* 从2001年12月27日以后，数据集在每行末尾突然出现了一个逗号。"
   ]
  },
  {
   "cell_type": "code",
   "execution_count": 131,
   "metadata": {},
   "outputs": [
    {
     "data": {
      "text/plain": [
       "['PriceIndices-EUROCurrency\\n',\n",
       " 'Date;Blue-Chip;Blue-Chip;Broad;Broad;ExUK;ExEuroZone;Blue-Chip;Broad\\n',\n",
       " ';Europe;Euro-Zone;Europe;Euro-Zone;;;Nordic;Nordic\\n',\n",
       " ';SX5P;SX5E;SXXP;SXXE;SXXF;SXXA;DK5F;DKXF\\n',\n",
       " '31.12.1986;775.00;900.82;82.76;98.58;98.06;69.06;645.26;65.56\\n',\n",
       " '01.01.1987;775.00;900.82;82.76;98.58;98.06;69.06;645.26;65.56\\n']"
      ]
     },
     "execution_count": 131,
     "metadata": {},
     "output_type": "execute_result"
    }
   ],
   "source": [
    "lines=open('./data/es.txt','r').readlines()\n",
    "lines=[line.replace(' ','') for line in lines]#首先我们读入整个数据集并去掉所有的空白\n",
    "lines[:6]#通过打印数据集的开始几行，我们可以看到文件头的一些性质"
   ]
  },
  {
   "cell_type": "code",
   "execution_count": 135,
   "metadata": {},
   "outputs": [
    {
     "name": "stdout",
     "output_type": "stream",
     "text": [
      "317.10;267.23;5268.36;363.19\n",
      "\n",
      "322.55;272.18;5360.52;370.94\n",
      "\n",
      "322.69;272.95;5360.52;370.94\n",
      "\n",
      "327.57;277.68;5479.59;378.69;\n",
      "\n",
      "329.94;278.87;5585.35;386.99;\n",
      "\n",
      "326.77;272.38;5522.25;380.09;\n",
      "\n",
      "332.62;277.08;5722.57;396.12;\n",
      "\n",
      "332.91;279.80;5752.12;397.50;\n",
      "\n",
      "329.58;278.12;5742.73;395.17;\n",
      "\n",
      "326.43;275.64;5569.88;380.31;\n",
      "\n",
      "327.32;274.87;5571.19;377.83;\n",
      "\n",
      "323.56;273.65;5530.61;373.06;\n",
      "\n",
      "325.97;275.62;5574.77;377.93;\n",
      "\n",
      "317.92;270.32;5366.05;361.10;\n",
      "\n",
      "320.54;272.48;5327.05;361.24;\n",
      "\n",
      "316.49;270.75;5248.82;355.92;\n",
      "\n",
      "321.82;272.28;5345.49;362.68;\n",
      "\n"
     ]
    }
   ],
   "source": [
    "for line in lines[3883:3900]:\n",
    "    print(line[41:])#大约从（3883-3990行）开始，数据出现了问题，在每行的末尾增加了一个分号。"
   ]
  },
  {
   "attachments": {},
   "cell_type": "markdown",
   "metadata": {},
   "source": [
    "为了数据集可以方便的引入，我们需要做以下的调整：\n",
    "* 生成一个新的文本文件。\n",
    "* 删除不需要的文件头几行\n",
    "* 写入合适的头部行\n",
    "* 增加一个帮助列，DEL\n",
    "* 将所有的数据写入到一个新的文件。\n",
    "* 读入数据的数据清洗操作。"
   ]
  },
  {
   "cell_type": "code",
   "execution_count": 136,
   "metadata": {
    "collapsed": true
   },
   "outputs": [],
   "source": [
    "new_file=open('./data/es50.txt','w')#生成一个新的文本文件，并向其写入write\n",
    "new_file.writelines('date'+lines[3][:-1]+';DEL'+lines[3][-1])#写入合适的头部行,去掉\\n,增加delete列（为了去掉之后的分号），增加\\n\n",
    "new_file.writelines(lines[4:])#删除不需要的文件头几行\n",
    "new_file.close()"
   ]
  },
  {
   "cell_type": "code",
   "execution_count": 139,
   "metadata": {},
   "outputs": [
    {
     "data": {
      "text/plain": [
       "['date;SX5P;SX5E;SXXP;SXXE;SXXF;SXXA;DK5F;DKXF;DEL\\n',\n",
       " '31.12.1986;775.00;900.82;82.76;98.58;98.06;69.06;645.26;65.56\\n',\n",
       " '01.01.1987;775.00;900.82;82.76;98.58;98.06;69.06;645.26;65.56\\n',\n",
       " '02.01.1987;770.89;891.78;82.57;97.80;97.43;69.37;647.62;65.81\\n',\n",
       " '05.01.1987;771.89;898.33;82.82;98.60;98.19;69.16;649.94;65.82\\n']"
      ]
     },
     "execution_count": 139,
     "metadata": {},
     "output_type": "execute_result"
    }
   ],
   "source": [
    "new_lines=open('./data/es50.txt','r').readlines()\n",
    "new_lines[:5]"
   ]
  },
  {
   "cell_type": "code",
   "execution_count": 140,
   "metadata": {},
   "outputs": [
    {
     "data": {
      "text/html": [
       "<div>\n",
       "<style>\n",
       "    .dataframe thead tr:only-child th {\n",
       "        text-align: right;\n",
       "    }\n",
       "\n",
       "    .dataframe thead th {\n",
       "        text-align: left;\n",
       "    }\n",
       "\n",
       "    .dataframe tbody tr th {\n",
       "        vertical-align: top;\n",
       "    }\n",
       "</style>\n",
       "<table border=\"1\" class=\"dataframe\">\n",
       "  <thead>\n",
       "    <tr style=\"text-align: right;\">\n",
       "      <th></th>\n",
       "      <th>SX5P</th>\n",
       "      <th>SX5E</th>\n",
       "      <th>SXXP</th>\n",
       "      <th>SXXE</th>\n",
       "      <th>SXXF</th>\n",
       "      <th>SXXA</th>\n",
       "      <th>DK5F</th>\n",
       "      <th>DKXF</th>\n",
       "      <th>DEL</th>\n",
       "    </tr>\n",
       "    <tr>\n",
       "      <th>date</th>\n",
       "      <th></th>\n",
       "      <th></th>\n",
       "      <th></th>\n",
       "      <th></th>\n",
       "      <th></th>\n",
       "      <th></th>\n",
       "      <th></th>\n",
       "      <th></th>\n",
       "      <th></th>\n",
       "    </tr>\n",
       "  </thead>\n",
       "  <tbody>\n",
       "    <tr>\n",
       "      <th>2016-09-28</th>\n",
       "      <td>2847.0</td>\n",
       "      <td>2991.0</td>\n",
       "      <td>343.0</td>\n",
       "      <td>324.0</td>\n",
       "      <td>408.0</td>\n",
       "      <td>350.0</td>\n",
       "      <td>9072.0</td>\n",
       "      <td>581.0</td>\n",
       "      <td>NaN</td>\n",
       "    </tr>\n",
       "    <tr>\n",
       "      <th>2016-09-29</th>\n",
       "      <td>2849.0</td>\n",
       "      <td>2992.0</td>\n",
       "      <td>343.0</td>\n",
       "      <td>324.0</td>\n",
       "      <td>408.0</td>\n",
       "      <td>351.0</td>\n",
       "      <td>9112.0</td>\n",
       "      <td>583.0</td>\n",
       "      <td>NaN</td>\n",
       "    </tr>\n",
       "    <tr>\n",
       "      <th>2016-09-30</th>\n",
       "      <td>2843.0</td>\n",
       "      <td>3002.0</td>\n",
       "      <td>343.0</td>\n",
       "      <td>325.0</td>\n",
       "      <td>408.0</td>\n",
       "      <td>350.0</td>\n",
       "      <td>9116.0</td>\n",
       "      <td>583.0</td>\n",
       "      <td>NaN</td>\n",
       "    </tr>\n",
       "    <tr>\n",
       "      <th>2016-10-03</th>\n",
       "      <td>2845.0</td>\n",
       "      <td>2998.0</td>\n",
       "      <td>343.0</td>\n",
       "      <td>325.0</td>\n",
       "      <td>408.0</td>\n",
       "      <td>351.0</td>\n",
       "      <td>9131.0</td>\n",
       "      <td>584.0</td>\n",
       "      <td>NaN</td>\n",
       "    </tr>\n",
       "    <tr>\n",
       "      <th>2016-10-04</th>\n",
       "      <td>2871.0</td>\n",
       "      <td>3030.0</td>\n",
       "      <td>346.0</td>\n",
       "      <td>328.0</td>\n",
       "      <td>411.0</td>\n",
       "      <td>354.0</td>\n",
       "      <td>9212.0</td>\n",
       "      <td>589.0</td>\n",
       "      <td>NaN</td>\n",
       "    </tr>\n",
       "  </tbody>\n",
       "</table>\n",
       "</div>"
      ],
      "text/plain": [
       "              SX5P    SX5E   SXXP   SXXE   SXXF   SXXA    DK5F   DKXF  DEL\n",
       "date                                                                      \n",
       "2016-09-28  2847.0  2991.0  343.0  324.0  408.0  350.0  9072.0  581.0  NaN\n",
       "2016-09-29  2849.0  2992.0  343.0  324.0  408.0  351.0  9112.0  583.0  NaN\n",
       "2016-09-30  2843.0  3002.0  343.0  325.0  408.0  350.0  9116.0  583.0  NaN\n",
       "2016-10-03  2845.0  2998.0  343.0  325.0  408.0  351.0  9131.0  584.0  NaN\n",
       "2016-10-04  2871.0  3030.0  346.0  328.0  411.0  354.0  9212.0  589.0  NaN"
      ]
     },
     "execution_count": 140,
     "metadata": {},
     "output_type": "execute_result"
    }
   ],
   "source": [
    "es=pd.read_csv('./data/es50.txt',index_col=0,parse_dates=True,sep=';',dayfirst=True)#读取成dataframe\n",
    "np.round(es.tail())#date列是index,并且读取成date"
   ]
  },
  {
   "cell_type": "code",
   "execution_count": 141,
   "metadata": {},
   "outputs": [
    {
     "name": "stdout",
     "output_type": "stream",
     "text": [
      "<class 'pandas.core.frame.DataFrame'>\n",
      "DatetimeIndex: 7673 entries, 1986-12-31 to 2016-10-04\n",
      "Data columns (total 8 columns):\n",
      "SX5P    7673 non-null float64\n",
      "SX5E    7673 non-null float64\n",
      "SXXP    7673 non-null float64\n",
      "SXXE    7673 non-null float64\n",
      "SXXF    7673 non-null float64\n",
      "SXXA    7673 non-null float64\n",
      "DK5F    7673 non-null float64\n",
      "DKXF    7673 non-null float64\n",
      "dtypes: float64(8)\n",
      "memory usage: 539.5 KB\n"
     ]
    }
   ],
   "source": [
    "del es['DEL']#去掉多余的分号\n",
    "es.info()"
   ]
  },
  {
   "cell_type": "code",
   "execution_count": 149,
   "metadata": {},
   "outputs": [
    {
     "data": {
      "text/html": [
       "<div>\n",
       "<style>\n",
       "    .dataframe thead tr:only-child th {\n",
       "        text-align: right;\n",
       "    }\n",
       "\n",
       "    .dataframe thead th {\n",
       "        text-align: left;\n",
       "    }\n",
       "\n",
       "    .dataframe tbody tr th {\n",
       "        vertical-align: top;\n",
       "    }\n",
       "</style>\n",
       "<table border=\"1\" class=\"dataframe\">\n",
       "  <thead>\n",
       "    <tr style=\"text-align: right;\">\n",
       "      <th></th>\n",
       "      <th>SX5P</th>\n",
       "      <th>SX5E</th>\n",
       "      <th>SXXP</th>\n",
       "      <th>SXXE</th>\n",
       "      <th>SXXF</th>\n",
       "      <th>SXXA</th>\n",
       "      <th>DK5F</th>\n",
       "      <th>DKXF</th>\n",
       "    </tr>\n",
       "  </thead>\n",
       "  <tbody>\n",
       "    <tr>\n",
       "      <th>2016-09-28</th>\n",
       "      <td>2846.55</td>\n",
       "      <td>2991.11</td>\n",
       "      <td>342.57</td>\n",
       "      <td>324.24</td>\n",
       "      <td>407.97</td>\n",
       "      <td>350.45</td>\n",
       "      <td>9072.09</td>\n",
       "      <td>581.27</td>\n",
       "    </tr>\n",
       "    <tr>\n",
       "      <th>2016-09-29</th>\n",
       "      <td>2848.93</td>\n",
       "      <td>2991.58</td>\n",
       "      <td>342.72</td>\n",
       "      <td>324.08</td>\n",
       "      <td>407.65</td>\n",
       "      <td>350.90</td>\n",
       "      <td>9112.09</td>\n",
       "      <td>582.60</td>\n",
       "    </tr>\n",
       "    <tr>\n",
       "      <th>2016-09-30</th>\n",
       "      <td>2843.17</td>\n",
       "      <td>3002.24</td>\n",
       "      <td>342.92</td>\n",
       "      <td>325.31</td>\n",
       "      <td>408.27</td>\n",
       "      <td>350.09</td>\n",
       "      <td>9115.81</td>\n",
       "      <td>583.26</td>\n",
       "    </tr>\n",
       "    <tr>\n",
       "      <th>2016-10-03</th>\n",
       "      <td>2845.43</td>\n",
       "      <td>2998.50</td>\n",
       "      <td>343.23</td>\n",
       "      <td>325.08</td>\n",
       "      <td>408.44</td>\n",
       "      <td>350.92</td>\n",
       "      <td>9131.24</td>\n",
       "      <td>584.32</td>\n",
       "    </tr>\n",
       "    <tr>\n",
       "      <th>2016-10-04</th>\n",
       "      <td>2871.06</td>\n",
       "      <td>3029.50</td>\n",
       "      <td>346.10</td>\n",
       "      <td>327.73</td>\n",
       "      <td>411.41</td>\n",
       "      <td>353.92</td>\n",
       "      <td>9212.05</td>\n",
       "      <td>588.71</td>\n",
       "    </tr>\n",
       "  </tbody>\n",
       "</table>\n",
       "</div>"
      ],
      "text/plain": [
       "               SX5P     SX5E    SXXP    SXXE    SXXF    SXXA     DK5F    DKXF\n",
       "2016-09-28  2846.55  2991.11  342.57  324.24  407.97  350.45  9072.09  581.27\n",
       "2016-09-29  2848.93  2991.58  342.72  324.08  407.65  350.90  9112.09  582.60\n",
       "2016-09-30  2843.17  3002.24  342.92  325.31  408.27  350.09  9115.81  583.26\n",
       "2016-10-03  2845.43  2998.50  343.23  325.08  408.44  350.92  9131.24  584.32\n",
       "2016-10-04  2871.06  3029.50  346.10  327.73  411.41  353.92  9212.05  588.71"
      ]
     },
     "execution_count": 149,
     "metadata": {},
     "output_type": "execute_result"
    }
   ],
   "source": [
    "#利用read_csv函数可以更简单地处理文本文件读取\n",
    "cols=['SX5P','SX5E','SXXP','SXXE','SXXF','SXXA','DK5F','DKXF']\n",
    "es=pd.read_csv(es_url,index_col=0,parse_dates=True,sep=';',dayfirst=True,header=None,skiprows=4,names=cols)\n",
    "es.tail()\n",
    "#这里为什么不能使用header=4,直接去掉头，是因为去掉4行头之后，默认第五行是colname,那么3887列的分号无法处理"
   ]
  },
  {
   "cell_type": "code",
   "execution_count": 146,
   "metadata": {},
   "outputs": [
    {
     "name": "stdout",
     "output_type": "stream",
     "text": [
      "<class 'pandas.core.frame.DataFrame'>\n",
      "DatetimeIndex: 4357 entries, 1999-01-04 to 2016-02-12\n",
      "Data columns (total 9 columns):\n",
      "V2TX    4357 non-null float64\n",
      "V6I1    3906 non-null float64\n",
      "V6I2    4357 non-null float64\n",
      "V6I3    4296 non-null float64\n",
      "V6I4    4357 non-null float64\n",
      "V6I5    4357 non-null float64\n",
      "V6I6    4340 non-null float64\n",
      "V6I7    4357 non-null float64\n",
      "V6I8    4343 non-null float64\n",
      "dtypes: float64(9)\n",
      "memory usage: 340.4 KB\n"
     ]
    }
   ],
   "source": [
    "vs=pd.read_csv('./data/vs.txt',index_col=0,header=2,parse_dates=True,sep=',',dayfirst=True)\n",
    "vs.info()"
   ]
  },
  {
   "cell_type": "code",
   "execution_count": 147,
   "metadata": {},
   "outputs": [
    {
     "data": {
      "text/html": [
       "<div>\n",
       "<style>\n",
       "    .dataframe thead tr:only-child th {\n",
       "        text-align: right;\n",
       "    }\n",
       "\n",
       "    .dataframe thead th {\n",
       "        text-align: left;\n",
       "    }\n",
       "\n",
       "    .dataframe tbody tr th {\n",
       "        vertical-align: top;\n",
       "    }\n",
       "</style>\n",
       "<table border=\"1\" class=\"dataframe\">\n",
       "  <thead>\n",
       "    <tr style=\"text-align: right;\">\n",
       "      <th></th>\n",
       "      <th>V2TX</th>\n",
       "      <th>V6I1</th>\n",
       "      <th>V6I2</th>\n",
       "      <th>V6I3</th>\n",
       "      <th>V6I4</th>\n",
       "      <th>V6I5</th>\n",
       "      <th>V6I6</th>\n",
       "      <th>V6I7</th>\n",
       "      <th>V6I8</th>\n",
       "    </tr>\n",
       "    <tr>\n",
       "      <th>Date</th>\n",
       "      <th></th>\n",
       "      <th></th>\n",
       "      <th></th>\n",
       "      <th></th>\n",
       "      <th></th>\n",
       "      <th></th>\n",
       "      <th></th>\n",
       "      <th></th>\n",
       "      <th></th>\n",
       "    </tr>\n",
       "  </thead>\n",
       "  <tbody>\n",
       "    <tr>\n",
       "      <th>2016-02-08</th>\n",
       "      <td>33.3917</td>\n",
       "      <td>34.7251</td>\n",
       "      <td>33.2189</td>\n",
       "      <td>31.8308</td>\n",
       "      <td>31.4783</td>\n",
       "      <td>30.6941</td>\n",
       "      <td>30.3705</td>\n",
       "      <td>29.8478</td>\n",
       "      <td>29.2559</td>\n",
       "    </tr>\n",
       "    <tr>\n",
       "      <th>2016-02-09</th>\n",
       "      <td>33.9664</td>\n",
       "      <td>35.7884</td>\n",
       "      <td>33.7800</td>\n",
       "      <td>32.6220</td>\n",
       "      <td>32.2459</td>\n",
       "      <td>31.5572</td>\n",
       "      <td>31.1659</td>\n",
       "      <td>30.5339</td>\n",
       "      <td>29.9000</td>\n",
       "    </tr>\n",
       "    <tr>\n",
       "      <th>2016-02-10</th>\n",
       "      <td>33.4528</td>\n",
       "      <td>34.6020</td>\n",
       "      <td>33.3637</td>\n",
       "      <td>32.1438</td>\n",
       "      <td>32.0018</td>\n",
       "      <td>31.2099</td>\n",
       "      <td>30.9937</td>\n",
       "      <td>30.8174</td>\n",
       "      <td>30.2533</td>\n",
       "    </tr>\n",
       "    <tr>\n",
       "      <th>2016-02-11</th>\n",
       "      <td>38.3051</td>\n",
       "      <td>41.2095</td>\n",
       "      <td>38.1347</td>\n",
       "      <td>35.8676</td>\n",
       "      <td>35.1073</td>\n",
       "      <td>33.7847</td>\n",
       "      <td>33.4126</td>\n",
       "      <td>32.2234</td>\n",
       "      <td>31.2124</td>\n",
       "    </tr>\n",
       "    <tr>\n",
       "      <th>2016-02-12</th>\n",
       "      <td>35.6846</td>\n",
       "      <td>35.3849</td>\n",
       "      <td>35.6965</td>\n",
       "      <td>34.1404</td>\n",
       "      <td>33.8645</td>\n",
       "      <td>32.9590</td>\n",
       "      <td>32.8208</td>\n",
       "      <td>32.3189</td>\n",
       "      <td>31.8194</td>\n",
       "    </tr>\n",
       "  </tbody>\n",
       "</table>\n",
       "</div>"
      ],
      "text/plain": [
       "               V2TX     V6I1     V6I2     V6I3     V6I4     V6I5     V6I6  \\\n",
       "Date                                                                        \n",
       "2016-02-08  33.3917  34.7251  33.2189  31.8308  31.4783  30.6941  30.3705   \n",
       "2016-02-09  33.9664  35.7884  33.7800  32.6220  32.2459  31.5572  31.1659   \n",
       "2016-02-10  33.4528  34.6020  33.3637  32.1438  32.0018  31.2099  30.9937   \n",
       "2016-02-11  38.3051  41.2095  38.1347  35.8676  35.1073  33.7847  33.4126   \n",
       "2016-02-12  35.6846  35.3849  35.6965  34.1404  33.8645  32.9590  32.8208   \n",
       "\n",
       "               V6I7     V6I8  \n",
       "Date                          \n",
       "2016-02-08  29.8478  29.2559  \n",
       "2016-02-09  30.5339  29.9000  \n",
       "2016-02-10  30.8174  30.2533  \n",
       "2016-02-11  32.2234  31.2124  \n",
       "2016-02-12  32.3189  31.8194  "
      ]
     },
     "execution_count": 147,
     "metadata": {},
     "output_type": "execute_result"
    }
   ],
   "source": [
    "vs.tail()"
   ]
  },
  {
   "cell_type": "code",
   "execution_count": 174,
   "metadata": {},
   "outputs": [
    {
     "data": {
      "text/html": [
       "<div>\n",
       "<style>\n",
       "    .dataframe thead tr:only-child th {\n",
       "        text-align: right;\n",
       "    }\n",
       "\n",
       "    .dataframe thead th {\n",
       "        text-align: left;\n",
       "    }\n",
       "\n",
       "    .dataframe tbody tr th {\n",
       "        vertical-align: top;\n",
       "    }\n",
       "</style>\n",
       "<table border=\"1\" class=\"dataframe\">\n",
       "  <thead>\n",
       "    <tr style=\"text-align: right;\">\n",
       "      <th></th>\n",
       "      <th>EUROSTOXX</th>\n",
       "      <th>VSTOXX</th>\n",
       "    </tr>\n",
       "  </thead>\n",
       "  <tbody>\n",
       "    <tr>\n",
       "      <th>2016-02-08</th>\n",
       "      <td>2785.17</td>\n",
       "      <td>33.3917</td>\n",
       "    </tr>\n",
       "    <tr>\n",
       "      <th>2016-02-09</th>\n",
       "      <td>2736.50</td>\n",
       "      <td>33.9664</td>\n",
       "    </tr>\n",
       "    <tr>\n",
       "      <th>2016-02-10</th>\n",
       "      <td>2789.05</td>\n",
       "      <td>33.4528</td>\n",
       "    </tr>\n",
       "    <tr>\n",
       "      <th>2016-02-11</th>\n",
       "      <td>2680.35</td>\n",
       "      <td>38.3051</td>\n",
       "    </tr>\n",
       "    <tr>\n",
       "      <th>2016-02-12</th>\n",
       "      <td>2756.16</td>\n",
       "      <td>35.6846</td>\n",
       "    </tr>\n",
       "  </tbody>\n",
       "</table>\n",
       "</div>"
      ],
      "text/plain": [
       "            EUROSTOXX   VSTOXX\n",
       "2016-02-08    2785.17  33.3917\n",
       "2016-02-09    2736.50  33.9664\n",
       "2016-02-10    2789.05  33.4528\n",
       "2016-02-11    2680.35  38.3051\n",
       "2016-02-12    2756.16  35.6846"
      ]
     },
     "execution_count": 174,
     "metadata": {},
     "output_type": "execute_result"
    }
   ],
   "source": [
    "import datetime as dt\n",
    "data=pd.DataFrame({'EUROSTOXX':es['SX5E'][(es.index>dt.datetime(1999,1,1))&(es.index<dt.datetime(2016,2,15))]})\n",
    "data=data.join(pd.DataFrame({'VSTOXX':vs['V2TX'][(vs.index>dt.datetime(1999,1,1))&(vs.index<dt.datetime(2016,2,15))]}))\n",
    "#因为VSTOXX数据仅仅在1999年1月以后才有，因此我们的数据都是从这一点开始,2016-2-15后，VSTOXX数据全部缺失\n",
    "data.tail()"
   ]
  },
  {
   "cell_type": "code",
   "execution_count": 175,
   "metadata": {
    "scrolled": true
   },
   "outputs": [
    {
     "name": "stdout",
     "output_type": "stream",
     "text": [
      "<class 'pandas.core.frame.DataFrame'>\n",
      "DatetimeIndex: 4387 entries, 1999-01-04 to 2016-02-12\n",
      "Data columns (total 2 columns):\n",
      "EUROSTOXX    4387 non-null float64\n",
      "VSTOXX       4387 non-null float64\n",
      "dtypes: float64(2)\n",
      "memory usage: 262.8 KB\n"
     ]
    }
   ],
   "source": [
    "#对于中间的缺失数据，我们使用最近可获得的时间序列的值，我们调用fillna方法，提供ffill参数（含义是forward fill）\n",
    "#另外一个选项是bfill，（含义是backward fill），这样的话会产生“foresight”的问题\n",
    "data=data.fillna(method='ffill')\n",
    "data.info()"
   ]
  },
  {
   "cell_type": "code",
   "execution_count": 176,
   "metadata": {
    "scrolled": true
   },
   "outputs": [
    {
     "data": {
      "text/plain": [
       "array([<matplotlib.axes._subplots.AxesSubplot object at 0x000001A0C8636FD0>,\n",
       "       <matplotlib.axes._subplots.AxesSubplot object at 0x000001A0C856EBA8>],\n",
       "      dtype=object)"
      ]
     },
     "execution_count": 176,
     "metadata": {},
     "output_type": "execute_result"
    },
    {
     "data": {
      "image/png": "[encoded data removed]",
      "text/plain": [
       "<matplotlib.figure.Figure at 0x1a0c861b668>"
      ]
     },
     "metadata": {},
     "output_type": "display_data"
    }
   ],
   "source": [
    "data.plot(subplots=True,grid=True,style='b',figsize=(8,6))"
   ]
  },
  {
   "attachments": {},
   "cell_type": "markdown",
   "metadata": {},
   "source": [
    "在图中，我们会看到这两个变量之间存在一定的负相关关系"
   ]
  },
  {
   "cell_type": "code",
   "execution_count": 177,
   "metadata": {},
   "outputs": [
    {
     "data": {
      "text/html": [
       "<div>\n",
       "<style>\n",
       "    .dataframe thead tr:only-child th {\n",
       "        text-align: right;\n",
       "    }\n",
       "\n",
       "    .dataframe thead th {\n",
       "        text-align: left;\n",
       "    }\n",
       "\n",
       "    .dataframe tbody tr th {\n",
       "        vertical-align: top;\n",
       "    }\n",
       "</style>\n",
       "<table border=\"1\" class=\"dataframe\">\n",
       "  <thead>\n",
       "    <tr style=\"text-align: right;\">\n",
       "      <th></th>\n",
       "      <th>EUROSTOXX</th>\n",
       "      <th>VSTOXX</th>\n",
       "    </tr>\n",
       "  </thead>\n",
       "  <tbody>\n",
       "    <tr>\n",
       "      <th>1999-01-04</th>\n",
       "      <td>NaN</td>\n",
       "      <td>NaN</td>\n",
       "    </tr>\n",
       "    <tr>\n",
       "      <th>1999-01-05</th>\n",
       "      <td>0.017228</td>\n",
       "      <td>0.489248</td>\n",
       "    </tr>\n",
       "    <tr>\n",
       "      <th>1999-01-06</th>\n",
       "      <td>0.022138</td>\n",
       "      <td>-0.165317</td>\n",
       "    </tr>\n",
       "    <tr>\n",
       "      <th>1999-01-07</th>\n",
       "      <td>-0.015723</td>\n",
       "      <td>0.256337</td>\n",
       "    </tr>\n",
       "    <tr>\n",
       "      <th>1999-01-08</th>\n",
       "      <td>-0.003120</td>\n",
       "      <td>0.021570</td>\n",
       "    </tr>\n",
       "  </tbody>\n",
       "</table>\n",
       "</div>"
      ],
      "text/plain": [
       "            EUROSTOXX    VSTOXX\n",
       "1999-01-04        NaN       NaN\n",
       "1999-01-05   0.017228  0.489248\n",
       "1999-01-06   0.022138 -0.165317\n",
       "1999-01-07  -0.015723  0.256337\n",
       "1999-01-08  -0.003120  0.021570"
      ]
     },
     "execution_count": 177,
     "metadata": {},
     "output_type": "execute_result"
    }
   ],
   "source": [
    "rets=np.log(data/data.shift(1))\n",
    "rets.head()"
   ]
  },
  {
   "cell_type": "code",
   "execution_count": 178,
   "metadata": {},
   "outputs": [
    {
     "data": {
      "text/plain": [
       "array([<matplotlib.axes._subplots.AxesSubplot object at 0x000001A0C86D1EB8>,\n",
       "       <matplotlib.axes._subplots.AxesSubplot object at 0x000001A0C8729A58>],\n",
       "      dtype=object)"
      ]
     },
     "execution_count": 178,
     "metadata": {},
     "output_type": "execute_result"
    },
    {
     "data": {
      "image/png": "[encoded data removed]",
      "text/plain": [
       "<matplotlib.figure.Figure at 0x1a0c83b63c8>"
      ]
     },
     "metadata": {},
     "output_type": "display_data"
    }
   ],
   "source": [
    "rets.plot(subplots=True,grid=True,style='b',figsize=(8,6))"
   ]
  },
  {
   "cell_type": "code",
   "execution_count": 179,
   "metadata": {},
   "outputs": [
    {
     "data": {
      "text/html": [
       "<table class=\"simpletable\">\n",
       "<caption>OLS Regression Results</caption>\n",
       "<tr>\n",
       "  <th>Dep. Variable:</th>         <td>VSTOXX</td>      <th>  R-squared:         </th>  <td>   0.543</td> \n",
       "</tr>\n",
       "<tr>\n",
       "  <th>Model:</th>                   <td>OLS</td>       <th>  Adj. R-squared:    </th>  <td>   0.543</td> \n",
       "</tr>\n",
       "<tr>\n",
       "  <th>Method:</th>             <td>Least Squares</td>  <th>  F-statistic:       </th>  <td>   5212.</td> \n",
       "</tr>\n",
       "<tr>\n",
       "  <th>Date:</th>             <td>Fri, 26 Oct 2018</td> <th>  Prob (F-statistic):</th>   <td>  0.00</td>  \n",
       "</tr>\n",
       "<tr>\n",
       "  <th>Time:</th>                 <td>10:11:21</td>     <th>  Log-Likelihood:    </th>  <td>  7966.3</td> \n",
       "</tr>\n",
       "<tr>\n",
       "  <th>No. Observations:</th>      <td>  4386</td>      <th>  AIC:               </th> <td>-1.593e+04</td>\n",
       "</tr>\n",
       "<tr>\n",
       "  <th>Df Residuals:</th>          <td>  4384</td>      <th>  BIC:               </th> <td>-1.592e+04</td>\n",
       "</tr>\n",
       "<tr>\n",
       "  <th>Df Model:</th>              <td>     1</td>      <th>                     </th>      <td> </td>    \n",
       "</tr>\n",
       "<tr>\n",
       "  <th>Covariance Type:</th>      <td>nonrobust</td>    <th>                     </th>      <td> </td>    \n",
       "</tr>\n",
       "</table>\n",
       "<table class=\"simpletable\">\n",
       "<tr>\n",
       "      <td></td>         <th>coef</th>     <th>std err</th>      <th>t</th>      <th>P>|t|</th>  <th>[0.025</th>    <th>0.975]</th>  \n",
       "</tr>\n",
       "<tr>\n",
       "  <th>Intercept</th> <td> -9.51e-06</td> <td>    0.001</td> <td>   -0.016</td> <td> 0.987</td> <td>   -0.001</td> <td>    0.001</td>\n",
       "</tr>\n",
       "<tr>\n",
       "  <th>EUROSTOXX</th> <td>   -2.8461</td> <td>    0.039</td> <td>  -72.194</td> <td> 0.000</td> <td>   -2.923</td> <td>   -2.769</td>\n",
       "</tr>\n",
       "</table>\n",
       "<table class=\"simpletable\">\n",
       "<tr>\n",
       "  <th>Omnibus:</th>       <td>1316.059</td> <th>  Durbin-Watson:     </th> <td>   2.050</td> \n",
       "</tr>\n",
       "<tr>\n",
       "  <th>Prob(Omnibus):</th>  <td> 0.000</td>  <th>  Jarque-Bera (JB):  </th> <td>24623.464</td>\n",
       "</tr>\n",
       "<tr>\n",
       "  <th>Skew:</th>           <td> 0.951</td>  <th>  Prob(JB):          </th> <td>    0.00</td> \n",
       "</tr>\n",
       "<tr>\n",
       "  <th>Kurtosis:</th>       <td>14.451</td>  <th>  Cond. No.          </th> <td>    66.3</td> \n",
       "</tr>\n",
       "</table>"
      ],
      "text/plain": [
       "<class 'statsmodels.iolib.summary.Summary'>\n",
       "\"\"\"\n",
       "                            OLS Regression Results                            \n",
       "==============================================================================\n",
       "Dep. Variable:                 VSTOXX   R-squared:                       0.543\n",
       "Model:                            OLS   Adj. R-squared:                  0.543\n",
       "Method:                 Least Squares   F-statistic:                     5212.\n",
       "Date:                Fri, 26 Oct 2018   Prob (F-statistic):               0.00\n",
       "Time:                        10:11:21   Log-Likelihood:                 7966.3\n",
       "No. Observations:                4386   AIC:                        -1.593e+04\n",
       "Df Residuals:                    4384   BIC:                        -1.592e+04\n",
       "Df Model:                           1                                         \n",
       "Covariance Type:            nonrobust                                         \n",
       "==============================================================================\n",
       "                 coef    std err          t      P>|t|      [0.025      0.975]\n",
       "------------------------------------------------------------------------------\n",
       "Intercept   -9.51e-06      0.001     -0.016      0.987      -0.001       0.001\n",
       "EUROSTOXX     -2.8461      0.039    -72.194      0.000      -2.923      -2.769\n",
       "==============================================================================\n",
       "Omnibus:                     1316.059   Durbin-Watson:                   2.050\n",
       "Prob(Omnibus):                  0.000   Jarque-Bera (JB):            24623.464\n",
       "Skew:                           0.951   Prob(JB):                         0.00\n",
       "Kurtosis:                      14.451   Cond. No.                         66.3\n",
       "==============================================================================\n",
       "\n",
       "Warnings:\n",
       "[1] Standard Errors assume that the covariance matrix of the errors is correctly specified.\n",
       "\"\"\""
      ]
     },
     "execution_count": 179,
     "metadata": {},
     "output_type": "execute_result"
    }
   ],
   "source": [
    "#使用EURO STOXX 50收益作为自变量，VSTOXX收益作为因变量进行回归分析。\n",
    "import statsmodels.formula.api as smf\n",
    "model = smf.ols(formula=' VSTOXX~ EUROSTOXX', data=rets).fit()\n",
    "model.summary()"
   ]
  },
  {
   "cell_type": "code",
   "execution_count": 187,
   "metadata": {},
   "outputs": [
    {
     "data": {
      "text/plain": [
       "Intercept   -0.000010\n",
       "EUROSTOXX   -2.846059\n",
       "dtype: float64"
      ]
     },
     "execution_count": 187,
     "metadata": {},
     "output_type": "execute_result"
    }
   ],
   "source": [
    "model.params"
   ]
  },
  {
   "cell_type": "markdown",
   "metadata": {},
   "source": [
    "可以通过beta系数来看到明显的负相关，-2.8461。"
   ]
  },
  {
   "cell_type": "code",
   "execution_count": 191,
   "metadata": {},
   "outputs": [
    {
     "data": {
      "text/plain": [
       "Text(0,0.5,'VSTOXX returns')"
      ]
     },
     "execution_count": 191,
     "metadata": {},
     "output_type": "execute_result"
    },
    {
     "data": {
      "image/png": "[encoded data removed]",
      "text/plain": [
       "<matplotlib.figure.Figure at 0x1a0c991c898>"
      ]
     },
     "metadata": {},
     "output_type": "display_data"
    }
   ],
   "source": [
    "xdat=rets['EUROSTOXX']\n",
    "ydat=rets['VSTOXX']\n",
    "plt.plot(xdat,ydat,'r.')#散点图\n",
    "ax=plt.axis()\n",
    "x=np.linspace(ax[0],ax[1]+0.01)#ax[0] 0.0, ax[1] 1.0\n",
    "plt.plot(x,model.params[0]+model.params[1]*x,'b',lw=2)\n",
    "plt.grid(True)\n",
    "plt.axis('tight')\n",
    "plt.xlabel('EURO STOXX 50 returns')\n",
    "plt.ylabel('VSTOXX returns')"
   ]
  },
  {
   "cell_type": "code",
   "execution_count": 192,
   "metadata": {},
   "outputs": [
    {
     "data": {
      "text/html": [
       "<div>\n",
       "<style>\n",
       "    .dataframe thead tr:only-child th {\n",
       "        text-align: right;\n",
       "    }\n",
       "\n",
       "    .dataframe thead th {\n",
       "        text-align: left;\n",
       "    }\n",
       "\n",
       "    .dataframe tbody tr th {\n",
       "        vertical-align: top;\n",
       "    }\n",
       "</style>\n",
       "<table border=\"1\" class=\"dataframe\">\n",
       "  <thead>\n",
       "    <tr style=\"text-align: right;\">\n",
       "      <th></th>\n",
       "      <th>EUROSTOXX</th>\n",
       "      <th>VSTOXX</th>\n",
       "    </tr>\n",
       "  </thead>\n",
       "  <tbody>\n",
       "    <tr>\n",
       "      <th>EUROSTOXX</th>\n",
       "      <td>1.00000</td>\n",
       "      <td>-0.73698</td>\n",
       "    </tr>\n",
       "    <tr>\n",
       "      <th>VSTOXX</th>\n",
       "      <td>-0.73698</td>\n",
       "      <td>1.00000</td>\n",
       "    </tr>\n",
       "  </tbody>\n",
       "</table>\n",
       "</div>"
      ],
      "text/plain": [
       "           EUROSTOXX   VSTOXX\n",
       "EUROSTOXX    1.00000 -0.73698\n",
       "VSTOXX      -0.73698  1.00000"
      ]
     },
     "execution_count": 192,
     "metadata": {},
     "output_type": "execute_result"
    }
   ],
   "source": [
    "rets.corr()"
   ]
  },
  {
   "cell_type": "code",
   "execution_count": 194,
   "metadata": {
    "scrolled": true
   },
   "outputs": [
    {
     "data": {
      "text/plain": [
       "<matplotlib.axes._subplots.AxesSubplot at 0x1a0c9821d30>"
      ]
     },
     "execution_count": 194,
     "metadata": {},
     "output_type": "execute_result"
    },
    {
     "data": {
      "image/png": "[encoded data removed]",
      "text/plain": [
       "<matplotlib.figure.Figure at 0x1a0c98dc748>"
      ]
     },
     "metadata": {},
     "output_type": "display_data"
    }
   ],
   "source": [
    "rets['EUROSTOXX'].rolling(window=252).corr(other=rets['VSTOXX']).plot(grid=True,style='b')"
   ]
  },
  {
   "cell_type": "markdown",
   "metadata": {},
   "source": [
    "高频数据处理的方法（目前无法下载数据，仅提供演示）"
   ]
  },
  {
   "cell_type": "code",
   "execution_count": 218,
   "metadata": {},
   "outputs": [
    {
     "ename": "FileNotFoundError",
     "evalue": "File b'http;//hopey.netfonds.no/posdump.php?date=20151123&paper=AAPL.O&csv_format=csv' does not exist",
     "output_type": "error",
     "traceback": [
      "\u001b[1;31m---------------------------------------------------------------------------\u001b[0m",
      "\u001b[1;31mFileNotFoundError\u001b[0m                         Traceback (most recent call last)",
      "\u001b[1;32m<ipython-input-218-943fb0775875>\u001b[0m in \u001b[0;36m<module>\u001b[1;34m()\u001b[0m\n\u001b[0;32m      9\u001b[0m \u001b[0mAAPL\u001b[0m\u001b[1;33m=\u001b[0m\u001b[0mpd\u001b[0m\u001b[1;33m.\u001b[0m\u001b[0mDataFrame\u001b[0m\u001b[1;33m(\u001b[0m\u001b[1;33m)\u001b[0m\u001b[1;33m\u001b[0m\u001b[0m\n\u001b[0;32m     10\u001b[0m \u001b[1;32mfor\u001b[0m \u001b[0mday\u001b[0m \u001b[1;32min\u001b[0m \u001b[0mdays\u001b[0m\u001b[1;33m:\u001b[0m\u001b[1;33m\u001b[0m\u001b[0m\n\u001b[1;32m---> 11\u001b[1;33m     \u001b[0mAAPL\u001b[0m\u001b[1;33m=\u001b[0m\u001b[0mAAPL\u001b[0m\u001b[1;33m.\u001b[0m\u001b[0mappend\u001b[0m\u001b[1;33m(\u001b[0m\u001b[0mpd\u001b[0m\u001b[1;33m.\u001b[0m\u001b[0mread_csv\u001b[0m\u001b[1;33m(\u001b[0m\u001b[0murl\u001b[0m \u001b[1;33m%\u001b[0m\u001b[1;33m(\u001b[0m\u001b[0myear\u001b[0m\u001b[1;33m,\u001b[0m\u001b[0mmonth\u001b[0m\u001b[1;33m,\u001b[0m\u001b[0mday\u001b[0m\u001b[1;33m)\u001b[0m\u001b[1;33m,\u001b[0m\u001b[0mindex_col\u001b[0m\u001b[1;33m=\u001b[0m\u001b[1;36m0\u001b[0m\u001b[1;33m,\u001b[0m\u001b[0mheader\u001b[0m\u001b[1;33m=\u001b[0m\u001b[1;36m0\u001b[0m\u001b[1;33m,\u001b[0m\u001b[0mparse_dates\u001b[0m\u001b[1;33m=\u001b[0m\u001b[1;32mTrue\u001b[0m\u001b[1;33m)\u001b[0m\u001b[1;33m)\u001b[0m\u001b[1;33m\u001b[0m\u001b[0m\n\u001b[0m\u001b[0;32m     12\u001b[0m \u001b[0mAAPL\u001b[0m\u001b[1;33m.\u001b[0m\u001b[0mcolumns\u001b[0m\u001b[1;33m=\u001b[0m\u001b[1;33m[\u001b[0m\u001b[1;34m'bid'\u001b[0m\u001b[1;33m,\u001b[0m\u001b[1;34m'bdepth'\u001b[0m\u001b[1;33m,\u001b[0m\u001b[1;34m'bdeptht'\u001b[0m\u001b[1;33m,\u001b[0m\u001b[1;34m'offer'\u001b[0m\u001b[1;33m,\u001b[0m\u001b[1;34m'odepth'\u001b[0m\u001b[1;33m,\u001b[0m\u001b[1;34m'odeptht'\u001b[0m\u001b[1;33m]\u001b[0m\u001b[1;31m#shorter column names\u001b[0m\u001b[1;33m\u001b[0m\u001b[0m\n\u001b[0;32m     13\u001b[0m \u001b[0mAAPL\u001b[0m\u001b[1;33m.\u001b[0m\u001b[0minfo\u001b[0m\u001b[1;33m(\u001b[0m\u001b[1;33m)\u001b[0m\u001b[1;33m\u001b[0m\u001b[0m\n",
      "\u001b[1;32m~\\Anaconda3\\lib\\site-packages\\pandas\\io\\parsers.py\u001b[0m in \u001b[0;36mparser_f\u001b[1;34m(filepath_or_buffer, sep, delimiter, header, names, index_col, usecols, squeeze, prefix, mangle_dupe_cols, dtype, engine, converters, true_values, false_values, skipinitialspace, skiprows, nrows, na_values, keep_default_na, na_filter, verbose, skip_blank_lines, parse_dates, infer_datetime_format, keep_date_col, date_parser, dayfirst, iterator, chunksize, compression, thousands, decimal, lineterminator, quotechar, quoting, escapechar, comment, encoding, dialect, tupleize_cols, error_bad_lines, warn_bad_lines, skipfooter, skip_footer, doublequote, delim_whitespace, as_recarray, compact_ints, use_unsigned, low_memory, buffer_lines, memory_map, float_precision)\u001b[0m\n\u001b[0;32m    653\u001b[0m                     skip_blank_lines=skip_blank_lines)\n\u001b[0;32m    654\u001b[0m \u001b[1;33m\u001b[0m\u001b[0m\n\u001b[1;32m--> 655\u001b[1;33m         \u001b[1;32mreturn\u001b[0m \u001b[0m_read\u001b[0m\u001b[1;33m(\u001b[0m\u001b[0mfilepath_or_buffer\u001b[0m\u001b[1;33m,\u001b[0m \u001b[0mkwds\u001b[0m\u001b[1;33m)\u001b[0m\u001b[1;33m\u001b[0m\u001b[0m\n\u001b[0m\u001b[0;32m    656\u001b[0m \u001b[1;33m\u001b[0m\u001b[0m\n\u001b[0;32m    657\u001b[0m     \u001b[0mparser_f\u001b[0m\u001b[1;33m.\u001b[0m\u001b[0m__name__\u001b[0m \u001b[1;33m=\u001b[0m \u001b[0mname\u001b[0m\u001b[1;33m\u001b[0m\u001b[0m\n",
      "\u001b[1;32m~\\Anaconda3\\lib\\site-packages\\pandas\\io\\parsers.py\u001b[0m in \u001b[0;36m_read\u001b[1;34m(filepath_or_buffer, kwds)\u001b[0m\n\u001b[0;32m    403\u001b[0m \u001b[1;33m\u001b[0m\u001b[0m\n\u001b[0;32m    404\u001b[0m     \u001b[1;31m# Create the parser.\u001b[0m\u001b[1;33m\u001b[0m\u001b[1;33m\u001b[0m\u001b[0m\n\u001b[1;32m--> 405\u001b[1;33m     \u001b[0mparser\u001b[0m \u001b[1;33m=\u001b[0m \u001b[0mTextFileReader\u001b[0m\u001b[1;33m(\u001b[0m\u001b[0mfilepath_or_buffer\u001b[0m\u001b[1;33m,\u001b[0m \u001b[1;33m**\u001b[0m\u001b[0mkwds\u001b[0m\u001b[1;33m)\u001b[0m\u001b[1;33m\u001b[0m\u001b[0m\n\u001b[0m\u001b[0;32m    406\u001b[0m \u001b[1;33m\u001b[0m\u001b[0m\n\u001b[0;32m    407\u001b[0m     \u001b[1;32mif\u001b[0m \u001b[0mchunksize\u001b[0m \u001b[1;32mor\u001b[0m \u001b[0miterator\u001b[0m\u001b[1;33m:\u001b[0m\u001b[1;33m\u001b[0m\u001b[0m\n",
      "\u001b[1;32m~\\Anaconda3\\lib\\site-packages\\pandas\\io\\parsers.py\u001b[0m in \u001b[0;36m__init__\u001b[1;34m(self, f, engine, **kwds)\u001b[0m\n\u001b[0;32m    762\u001b[0m             \u001b[0mself\u001b[0m\u001b[1;33m.\u001b[0m\u001b[0moptions\u001b[0m\u001b[1;33m[\u001b[0m\u001b[1;34m'has_index_names'\u001b[0m\u001b[1;33m]\u001b[0m \u001b[1;33m=\u001b[0m \u001b[0mkwds\u001b[0m\u001b[1;33m[\u001b[0m\u001b[1;34m'has_index_names'\u001b[0m\u001b[1;33m]\u001b[0m\u001b[1;33m\u001b[0m\u001b[0m\n\u001b[0;32m    763\u001b[0m \u001b[1;33m\u001b[0m\u001b[0m\n\u001b[1;32m--> 764\u001b[1;33m         \u001b[0mself\u001b[0m\u001b[1;33m.\u001b[0m\u001b[0m_make_engine\u001b[0m\u001b[1;33m(\u001b[0m\u001b[0mself\u001b[0m\u001b[1;33m.\u001b[0m\u001b[0mengine\u001b[0m\u001b[1;33m)\u001b[0m\u001b[1;33m\u001b[0m\u001b[0m\n\u001b[0m\u001b[0;32m    765\u001b[0m \u001b[1;33m\u001b[0m\u001b[0m\n\u001b[0;32m    766\u001b[0m     \u001b[1;32mdef\u001b[0m \u001b[0mclose\u001b[0m\u001b[1;33m(\u001b[0m\u001b[0mself\u001b[0m\u001b[1;33m)\u001b[0m\u001b[1;33m:\u001b[0m\u001b[1;33m\u001b[0m\u001b[0m\n",
      "\u001b[1;32m~\\Anaconda3\\lib\\site-packages\\pandas\\io\\parsers.py\u001b[0m in \u001b[0;36m_make_engine\u001b[1;34m(self, engine)\u001b[0m\n\u001b[0;32m    983\u001b[0m     \u001b[1;32mdef\u001b[0m \u001b[0m_make_engine\u001b[0m\u001b[1;33m(\u001b[0m\u001b[0mself\u001b[0m\u001b[1;33m,\u001b[0m \u001b[0mengine\u001b[0m\u001b[1;33m=\u001b[0m\u001b[1;34m'c'\u001b[0m\u001b[1;33m)\u001b[0m\u001b[1;33m:\u001b[0m\u001b[1;33m\u001b[0m\u001b[0m\n\u001b[0;32m    984\u001b[0m         \u001b[1;32mif\u001b[0m \u001b[0mengine\u001b[0m \u001b[1;33m==\u001b[0m \u001b[1;34m'c'\u001b[0m\u001b[1;33m:\u001b[0m\u001b[1;33m\u001b[0m\u001b[0m\n\u001b[1;32m--> 985\u001b[1;33m             \u001b[0mself\u001b[0m\u001b[1;33m.\u001b[0m\u001b[0m_engine\u001b[0m \u001b[1;33m=\u001b[0m \u001b[0mCParserWrapper\u001b[0m\u001b[1;33m(\u001b[0m\u001b[0mself\u001b[0m\u001b[1;33m.\u001b[0m\u001b[0mf\u001b[0m\u001b[1;33m,\u001b[0m \u001b[1;33m**\u001b[0m\u001b[0mself\u001b[0m\u001b[1;33m.\u001b[0m\u001b[0moptions\u001b[0m\u001b[1;33m)\u001b[0m\u001b[1;33m\u001b[0m\u001b[0m\n\u001b[0m\u001b[0;32m    986\u001b[0m         \u001b[1;32melse\u001b[0m\u001b[1;33m:\u001b[0m\u001b[1;33m\u001b[0m\u001b[0m\n\u001b[0;32m    987\u001b[0m             \u001b[1;32mif\u001b[0m \u001b[0mengine\u001b[0m \u001b[1;33m==\u001b[0m \u001b[1;34m'python'\u001b[0m\u001b[1;33m:\u001b[0m\u001b[1;33m\u001b[0m\u001b[0m\n",
      "\u001b[1;32m~\\Anaconda3\\lib\\site-packages\\pandas\\io\\parsers.py\u001b[0m in \u001b[0;36m__init__\u001b[1;34m(self, src, **kwds)\u001b[0m\n\u001b[0;32m   1603\u001b[0m         \u001b[0mkwds\u001b[0m\u001b[1;33m[\u001b[0m\u001b[1;34m'allow_leading_cols'\u001b[0m\u001b[1;33m]\u001b[0m \u001b[1;33m=\u001b[0m \u001b[0mself\u001b[0m\u001b[1;33m.\u001b[0m\u001b[0mindex_col\u001b[0m \u001b[1;32mis\u001b[0m \u001b[1;32mnot\u001b[0m \u001b[1;32mFalse\u001b[0m\u001b[1;33m\u001b[0m\u001b[0m\n\u001b[0;32m   1604\u001b[0m \u001b[1;33m\u001b[0m\u001b[0m\n\u001b[1;32m-> 1605\u001b[1;33m         \u001b[0mself\u001b[0m\u001b[1;33m.\u001b[0m\u001b[0m_reader\u001b[0m \u001b[1;33m=\u001b[0m \u001b[0mparsers\u001b[0m\u001b[1;33m.\u001b[0m\u001b[0mTextReader\u001b[0m\u001b[1;33m(\u001b[0m\u001b[0msrc\u001b[0m\u001b[1;33m,\u001b[0m \u001b[1;33m**\u001b[0m\u001b[0mkwds\u001b[0m\u001b[1;33m)\u001b[0m\u001b[1;33m\u001b[0m\u001b[0m\n\u001b[0m\u001b[0;32m   1606\u001b[0m \u001b[1;33m\u001b[0m\u001b[0m\n\u001b[0;32m   1607\u001b[0m         \u001b[1;31m# XXX\u001b[0m\u001b[1;33m\u001b[0m\u001b[1;33m\u001b[0m\u001b[0m\n",
      "\u001b[1;32mpandas/_libs/parsers.pyx\u001b[0m in \u001b[0;36mpandas._libs.parsers.TextReader.__cinit__ (pandas\\_libs\\parsers.c:4209)\u001b[1;34m()\u001b[0m\n",
      "\u001b[1;32mpandas/_libs/parsers.pyx\u001b[0m in \u001b[0;36mpandas._libs.parsers.TextReader._setup_parser_source (pandas\\_libs\\parsers.c:8873)\u001b[1;34m()\u001b[0m\n",
      "\u001b[1;31mFileNotFoundError\u001b[0m: File b'http;//hopey.netfonds.no/posdump.php?date=20151123&paper=AAPL.O&csv_format=csv' does not exist"
     ]
    }
   ],
   "source": [
    "url1='http;//hopey.netfonds.no/posdump.php?'\n",
    "url2='date=%s%s%s&paper=AAPL.O&csv_format=csv'\n",
    "url=url1+url2\n",
    "#挪威的在线经纪商Netfonds提供了大量股票的高频数据，特别是美国股票，我们可以从网络上获得数据\n",
    "year='2015'\n",
    "month='11'\n",
    "days=['23','24','25','26']\n",
    "#我们要来分析苹果公司一周左右的高频数据，首先是导入数据\n",
    "AAPL=pd.DataFrame()\n",
    "for day in days:\n",
    "    AAPL=AAPL.append(pd.read_csv(url %(year,month,day),index_col=0,header=0,parse_dates=True))\n",
    "AAPL.columns=['bid','bdepth','bdeptht','offer','odepth','odeptht']#shorter column names\n",
    "AAPL.info()\n",
    "AAPL['bid'].plot()\n",
    "to_plot=AAPL[['bid','bdeptht']][\n",
    "    (AAPL.index>dt.datetime(2014,12,11,0,0))\n",
    "    & (AAPL.index<dt.datetime(2014,12,12,2,59))\n",
    "]\n",
    "#在某一个市场开放的时候，有着较高的交易行为。\n",
    "#本图显示了样本中第一天的交易行为和第三天最后三个小时的行为，可以看到在交易前，美国股市开盘以及结束后的情况\n",
    "to_plot.plot(subplots=True,style='b',figsize=(8,5))\n",
    "AAPL_resam=AAPL.resample(rule='5min',how='mean')\n",
    "np.roud(AAPL_resam.head(),2)\n",
    "AAPL_resam['bid'].fillna(method='ffill').plot()\n",
    "#通常情况下，金融高频数据会导致DatetimeIndex非常不规律。在这种情况下，对于数据进行再抽样通常是非常有用的\n",
    "#pandas为DataFrame对象提供了这样一个方法来协助\n",
    "#我们在这里使用均值作为再抽样的依据。这样图形看起来就更平滑，我们在这里还使用缺失值之前的最近数据对缺失值进行了调整\n",
    "def reversal(x):\n",
    "    return 2*95-x\n",
    "AAPL_resam['bid'].fillna(method='ffill').apply(reversal).plot()\n",
    "#我们使用了一个用户自定义的无意义函数应用于我们的新数据集"
   ]
  }
 ],
 "metadata": {
  "kernelspec": {
   "display_name": "Python 3",
   "language": "python",
   "name": "python3"
  },
  "language_info": {
   "codemirror_mode": {
    "name": "ipython",
    "version": 3
   },
   "file_extension": ".py",
   "mimetype": "text/x-python",
   "name": "python",
   "nbconvert_exporter": "python",
   "pygments_lexer": "ipython3",
   "version": "3.6.3"
  }
 },
 "nbformat": 4,
 "nbformat_minor": 2
}
