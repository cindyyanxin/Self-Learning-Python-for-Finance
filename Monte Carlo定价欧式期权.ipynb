{
 "cells": [
  {
   "cell_type": "markdown",
   "metadata": {},
   "source": [
    "基于BSM模型，有风险的标的（股票或指数水平等），在风险中性的假设下，会遵循几何布朗运动，以随机微分方程的形式表现如下：$$dS_t=rS_tdt+\\sigma S_tdZ_t$$\n"
   ]
  },
  {
   "cell_type": "markdown",
   "metadata": {},
   "source": [
    "这里的Z表示的是标准布朗运动。"
   ]
  },
  {
   "cell_type": "markdown",
   "metadata": {},
   "source": [
    "将该方程离散化为可以使用Monte Carlo方法处理的差分方程如下：\n",
    "$$S_t=S_{t-\\Delta t}e^{(r-0.5\\sigma^2)\\Delta t+\\sigma \\sqrt{\\Delta t} z_t}$$"
   ]
  },
  {
   "cell_type": "markdown",
   "metadata": {},
   "source": [
    "这里的z表示的是标准正态分布随机变量，t表示的是一个足够小的时间区间，且0<t<T"
   ]
  },
  {
   "cell_type": "markdown",
   "metadata": {},
   "source": [
    "下面举例模拟定价一个欧式期权：基本参数设置如下"
   ]
  },
  {
   "cell_type": "code",
   "execution_count": 3,
   "metadata": {
    "collapsed": true
   },
   "outputs": [],
   "source": [
    "S0=100.0\n",
    "K=105.0\n",
    "T=1.0\n",
    "r=0.05\n",
    "sigma=0.2"
   ]
  },
  {
   "cell_type": "markdown",
   "metadata": {},
   "source": [
    "根据BSM模型计算出来的期权期望价值为："
   ]
  },
  {
   "cell_type": "code",
   "execution_count": 5,
   "metadata": {
    "collapsed": true
   },
   "outputs": [],
   "source": [
    "def bsm_call_value(S0,K,T,r,sigma):\n",
    "    from math import log,sqrt,exp\n",
    "    from scipy import stats\n",
    "    S0=float(S0)\n",
    "    d1=(log(S0/K)+(r+0.5*sigma**2)*T)/(sigma*sqrt(T))\n",
    "    d2=(log(S0/K)+(r-0.5*sigma**2)*T)/(sigma*sqrt(T))\n",
    "    value=(S0*stats.norm.cdf(d1,0.0,1.0))-K*exp(-r*T)*stats.norm.cdf(d2,0.0,1.0)\n",
    "    return value"
   ]
  },
  {
   "cell_type": "code",
   "execution_count": 8,
   "metadata": {
    "collapsed": true
   },
   "outputs": [],
   "source": [
    "callvalue=bsm_call_value(S0,K,T,r,sigma)"
   ]
  },
  {
   "cell_type": "code",
   "execution_count": 9,
   "metadata": {},
   "outputs": [
    {
     "data": {
      "text/plain": [
       "8.0213522351431763"
      ]
     },
     "execution_count": 9,
     "metadata": {},
     "output_type": "execute_result"
    }
   ],
   "source": [
    "callvalue"
   ]
  },
  {
   "cell_type": "markdown",
   "metadata": {},
   "source": [
    "期权的期望价值为8.02135。"
   ]
  },
  {
   "cell_type": "markdown",
   "metadata": {},
   "source": [
    "Monte Carlo模拟为期权定价的过程需要下面几个步骤："
   ]
  },
  {
   "cell_type": "markdown",
   "metadata": {},
   "source": [
    "将时间区间[0,T]分为相等的每段为t的间隔；"
   ]
  },
  {
   "cell_type": "markdown",
   "metadata": {},
   "source": [
    "开始迭代i=1,2,3,....l(l是模拟的路径数）"
   ]
  },
  {
   "cell_type": "markdown",
   "metadata": {},
   "source": [
    "对于每个时间间隔t,抽取伪随机数$z_t(i)$"
   ]
  },
  {
   "cell_type": "markdown",
   "metadata": {},
   "source": [
    "通过在每个时间步骤应用上述伪随机数和上面给出的离散化方程来确定T时刻的指数水平$S_T(i)$"
   ]
  },
  {
   "cell_type": "markdown",
   "metadata": {},
   "source": [
    "决定欧式看涨期权在T时刻的内在价值$h_T(S_T(i))=max(S_T(i)-K,0)$"
   ]
  },
  {
   "cell_type": "markdown",
   "metadata": {},
   "source": [
    "进行迭代直到$i=l$"
   ]
  },
  {
   "cell_type": "markdown",
   "metadata": {},
   "source": [
    "加总每条路径的内在价值，并求平均数。"
   ]
  },
  {
   "cell_type": "markdown",
   "metadata": {},
   "source": [
    "$$C_0=e^{-rT}\\frac{1}{I}\\sum_{I}(h_T(S_T(i))$$"
   ]
  },
  {
   "cell_type": "markdown",
   "metadata": {},
   "source": [
    "下面用Python编写三种实现Monte Carlo模拟的代码："
   ]
  },
  {
   "cell_type": "markdown",
   "metadata": {},
   "source": [
    "1. 使用Python内嵌的list方法"
   ]
  },
  {
   "cell_type": "code",
   "execution_count": 10,
   "metadata": {
    "collapsed": true
   },
   "outputs": [],
   "source": [
    "from time import time\n",
    "from math import exp,sqrt,log\n",
    "from random import gauss,seed"
   ]
  },
  {
   "cell_type": "code",
   "execution_count": 16,
   "metadata": {
    "collapsed": true
   },
   "outputs": [],
   "source": [
    "seed(20000)\n",
    "t0=time()#计时\n",
    "M=50\n",
    "dt=T/M#时间间隔\n",
    "I=250000#模拟路径数\n",
    "\n",
    "S=[]\n",
    "for i in range(I):#外层循环是模拟路径数量\n",
    "    path=[]\n",
    "    for t in range(M+1):#每条路径中模拟的时间间隔\n",
    "        if t==0:\n",
    "            path.append(S0)\n",
    "        else:\n",
    "            z=gauss(0.0,1.0)\n",
    "            St=path[t-1]*exp((r-0.5*sigma**2)*dt+sigma*sqrt(dt)*z)\n",
    "            path.append(St)\n",
    "    S.append(path)\n",
    "\n",
    "C0=exp(-r*T)*sum([max(path[-1]-K,0) for path in S])/I#期权价格\n",
    "tpy=time()-t0#总计用时"
   ]
  },
  {
   "cell_type": "code",
   "execution_count": 17,
   "metadata": {},
   "outputs": [
    {
     "data": {
      "text/plain": [
       "7.9990448881765825"
      ]
     },
     "execution_count": 17,
     "metadata": {},
     "output_type": "execute_result"
    }
   ],
   "source": [
    "C0"
   ]
  },
  {
   "cell_type": "code",
   "execution_count": 18,
   "metadata": {},
   "outputs": [
    {
     "data": {
      "text/plain": [
       "22.388219356536865"
      ]
     },
     "execution_count": 18,
     "metadata": {},
     "output_type": "execute_result"
    }
   ],
   "source": [
    "tpy"
   ]
  },
  {
   "cell_type": "markdown",
   "metadata": {},
   "source": [
    "使用Python内嵌方法的期权价格计算为7.999,在本机的处理时间为22.39秒。"
   ]
  },
  {
   "cell_type": "markdown",
   "metadata": {},
   "source": [
    "2.使用Numpy进行向量化的处理"
   ]
  },
  {
   "cell_type": "code",
   "execution_count": 20,
   "metadata": {
    "collapsed": true
   },
   "outputs": [],
   "source": [
    "import math\n",
    "import numpy as np\n",
    "from time import time"
   ]
  },
  {
   "cell_type": "code",
   "execution_count": 21,
   "metadata": {
    "collapsed": true
   },
   "outputs": [],
   "source": [
    "np.random.seed(20000)\n",
    "t0=time()\n",
    "S=np.zeros((M+1,I))#M+1行时间间隔，I列路径\n",
    "S[0]=S0#第0行S0(向量化)\n",
    "for t in range(1,M+1):\n",
    "    z=np.random.standard_normal(I)#I列标准正态\n",
    "    S[t]=S[t-1]*np.exp((r-0.5*sigma**2)*dt+sigma*math.sqrt(dt)*z)#一行一行向量推进\n",
    "\n",
    "C0=math.exp(-r*T)*np.sum(np.maximum(S[-1]-K,0))/I\n",
    "tnp1=time()-t0"
   ]
  },
  {
   "cell_type": "code",
   "execution_count": 22,
   "metadata": {},
   "outputs": [
    {
     "data": {
      "text/plain": [
       "8.0365029625093296"
      ]
     },
     "execution_count": 22,
     "metadata": {},
     "output_type": "execute_result"
    }
   ],
   "source": [
    "C0"
   ]
  },
  {
   "cell_type": "code",
   "execution_count": 23,
   "metadata": {},
   "outputs": [
    {
     "data": {
      "text/plain": [
       "1.1588945388793945"
      ]
     },
     "execution_count": 23,
     "metadata": {},
     "output_type": "execute_result"
    }
   ],
   "source": [
    "tnp1"
   ]
  },
  {
   "cell_type": "markdown",
   "metadata": {},
   "source": [
    "使用Numpy强大的向量化和广播机制，期权价格计算为8.0365，更精确,在本机的处理时间为1.16秒，效率大为提高。"
   ]
  },
  {
   "cell_type": "markdown",
   "metadata": {},
   "source": [
    "3.使用对数Euler方法进行完全向量化"
   ]
  },
  {
   "cell_type": "markdown",
   "metadata": {},
   "source": [
    "使用一种不同的对SDE进行离散化的方式来更加紧凑地实现Monte Carlo Simulation，即Euler离散化。$$logS_t=logS_{t-\\Delta t}+(r-0.5\\sigma^2)\\Delta t +\\sigma \\sqrt{\\Delta t}z_t$$"
   ]
  },
  {
   "cell_type": "code",
   "execution_count": 24,
   "metadata": {
    "collapsed": true
   },
   "outputs": [],
   "source": [
    "import math\n",
    "from numpy import *\n",
    "from time import time"
   ]
  },
  {
   "cell_type": "code",
   "execution_count": 25,
   "metadata": {
    "collapsed": true
   },
   "outputs": [],
   "source": [
    "random.seed(20000)\n",
    "t0=time()\n",
    "S[0]=S0\n",
    "S=S0*exp(cumsum((r-0.5*sigma**2)*dt+sigma*math.sqrt(dt)*random.standard_normal((M+1,I)),axis=0))\n",
    "C0=math.exp(-r*T)*sum(maximum(S[-1]-K,0))/I\n",
    "tnp2=time()-t0"
   ]
  },
  {
   "cell_type": "code",
   "execution_count": 26,
   "metadata": {},
   "outputs": [
    {
     "data": {
      "text/plain": [
       "8.165807966259603"
      ]
     },
     "execution_count": 26,
     "metadata": {},
     "output_type": "execute_result"
    }
   ],
   "source": [
    "C0"
   ]
  },
  {
   "cell_type": "code",
   "execution_count": 27,
   "metadata": {},
   "outputs": [
    {
     "data": {
      "text/plain": [
       "0.96840500831604"
      ]
     },
     "execution_count": 27,
     "metadata": {},
     "output_type": "execute_result"
    }
   ],
   "source": [
    "tnp2"
   ]
  },
  {
   "cell_type": "markdown",
   "metadata": {},
   "source": [
    "Euler离散化的SDE是完全可加的，因此效率更高，估计值为8.166,时间为0.968秒。"
   ]
  },
  {
   "cell_type": "markdown",
   "metadata": {},
   "source": [
    "下面，我们作图来可视化这些模拟的过程。"
   ]
  },
  {
   "cell_type": "code",
   "execution_count": 30,
   "metadata": {},
   "outputs": [
    {
     "data": {
      "image/png": "[encoded data removed]",
      "text/plain": [
       "<matplotlib.figure.Figure at 0x26f80ce3668>"
      ]
     },
     "metadata": {},
     "output_type": "display_data"
    }
   ],
   "source": [
    "import matplotlib.pyplot as plt\n",
    "plt.plot(S[:,:10])#选取前十条路径\n",
    "plt.grid(True)\n",
    "plt.xlabel('模拟时间点')\n",
    "plt.ylabel('指数水平')\n",
    "plt.show()"
   ]
  },
  {
   "cell_type": "code",
   "execution_count": 31,
   "metadata": {},
   "outputs": [
    {
     "data": {
      "image/png": "[encoded data removed]",
      "text/plain": [
       "<matplotlib.figure.Figure at 0x26f80d76dd8>"
      ]
     },
     "metadata": {},
     "output_type": "display_data"
    }
   ],
   "source": [
    "plt.hist(S[-1],bins=50)\n",
    "plt.grid(True)\n",
    "plt.xlabel('指数水平')\n",
    "plt.ylabel('频数')\n",
    "plt.show()#模拟期末指数水平的分布，应该近似为正态分布"
   ]
  },
  {
   "cell_type": "code",
   "execution_count": 32,
   "metadata": {},
   "outputs": [
    {
     "data": {
      "image/png": "[encoded data removed]",
      "text/plain": [
       "<matplotlib.figure.Figure at 0x26f82240a90>"
      ]
     },
     "metadata": {},
     "output_type": "display_data"
    }
   ],
   "source": [
    "plt.hist(np.maximum(S[-1]-K,0),bins=50)\n",
    "plt.grid(True)\n",
    "plt.xlabel('期权期末价值')\n",
    "plt.ylabel('频数')\n",
    "plt.show()#模拟期权期末价值的分布"
   ]
  },
  {
   "cell_type": "code",
   "execution_count": 32,
   "metadata": {},
   "outputs": [
    {
     "data": {
      "image/png": "[encoded data removed]",
      "text/plain": [
       "<matplotlib.figure.Figure at 0x26f82240a90>"
      ]
     },
     "metadata": {},
     "output_type": "display_data"
    }
   ],
   "source": [
    "plt.hist(np.maximum(S[-1]-K,0),bins=50)\n",
    "plt.grid(True)\n",
    "plt.xlabel('期权期末价值')\n",
    "plt.ylabel('频数')\n",
    "plt.show()#模拟期权期末价值的分布"
   ]
  }
 ],
 "metadata": {
  "kernelspec": {
   "display_name": "Python 3",
   "language": "python",
   "name": "python3"
  },
  "language_info": {
   "codemirror_mode": {
    "name": "ipython",
    "version": 3
   },
   "file_extension": ".py",
   "mimetype": "text/x-python",
   "name": "python",
   "nbconvert_exporter": "python",
   "pygments_lexer": "ipython3",
   "version": "3.6.3"
  }
 },
 "nbformat": 4,
 "nbformat_minor": 2
}
